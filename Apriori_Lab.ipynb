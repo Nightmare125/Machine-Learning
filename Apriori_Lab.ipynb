{
  "nbformat": 4,
  "nbformat_minor": 0,
  "metadata": {
    "colab": {
      "provenance": [],
      "authorship_tag": "ABX9TyMudkwyZEdcfp3QO1W9lA1D",
      "include_colab_link": true
    },
    "kernelspec": {
      "name": "python3",
      "display_name": "Python 3"
    },
    "language_info": {
      "name": "python"
    }
  },
  "cells": [
    {
      "cell_type": "markdown",
      "metadata": {
        "id": "view-in-github",
        "colab_type": "text"
      },
      "source": [
        "<a href=\"https://colab.research.google.com/github/Nightmare125/Machine-Learning/blob/main/Apriori_Lab.ipynb\" target=\"_parent\"><img src=\"https://colab.research.google.com/assets/colab-badge.svg\" alt=\"Open In Colab\"/></a>"
      ]
    },
    {
      "cell_type": "code",
      "source": [
        "import pandas as pd\n",
        "import numpy as np\n",
        "from collections import defaultdict, Counter\n",
        "from itertools import combinations\n",
        "import matplotlib.pyplot as plt\n",
        "import seaborn as sns\n",
        "import time"
      ],
      "metadata": {
        "id": "sXWnE6mEtc7a"
      },
      "execution_count": 1,
      "outputs": []
    },
    {
      "cell_type": "code",
      "execution_count": 2,
      "metadata": {
        "colab": {
          "base_uri": "https://localhost:8080/",
          "height": 74
        },
        "id": "-npKFaROX8in",
        "outputId": "064018a2-e649-4fed-eb7c-fd06fa7fc7a1"
      },
      "outputs": [
        {
          "output_type": "display_data",
          "data": {
            "text/plain": [
              "<IPython.core.display.HTML object>"
            ],
            "text/html": [
              "\n",
              "     <input type=\"file\" id=\"files-a3445c8c-d4f3-4dc4-abbe-97e665d0de71\" name=\"files[]\" multiple disabled\n",
              "        style=\"border:none\" />\n",
              "     <output id=\"result-a3445c8c-d4f3-4dc4-abbe-97e665d0de71\">\n",
              "      Upload widget is only available when the cell has been executed in the\n",
              "      current browser session. Please rerun this cell to enable.\n",
              "      </output>\n",
              "      <script>// Copyright 2017 Google LLC\n",
              "//\n",
              "// Licensed under the Apache License, Version 2.0 (the \"License\");\n",
              "// you may not use this file except in compliance with the License.\n",
              "// You may obtain a copy of the License at\n",
              "//\n",
              "//      http://www.apache.org/licenses/LICENSE-2.0\n",
              "//\n",
              "// Unless required by applicable law or agreed to in writing, software\n",
              "// distributed under the License is distributed on an \"AS IS\" BASIS,\n",
              "// WITHOUT WARRANTIES OR CONDITIONS OF ANY KIND, either express or implied.\n",
              "// See the License for the specific language governing permissions and\n",
              "// limitations under the License.\n",
              "\n",
              "/**\n",
              " * @fileoverview Helpers for google.colab Python module.\n",
              " */\n",
              "(function(scope) {\n",
              "function span(text, styleAttributes = {}) {\n",
              "  const element = document.createElement('span');\n",
              "  element.textContent = text;\n",
              "  for (const key of Object.keys(styleAttributes)) {\n",
              "    element.style[key] = styleAttributes[key];\n",
              "  }\n",
              "  return element;\n",
              "}\n",
              "\n",
              "// Max number of bytes which will be uploaded at a time.\n",
              "const MAX_PAYLOAD_SIZE = 100 * 1024;\n",
              "\n",
              "function _uploadFiles(inputId, outputId) {\n",
              "  const steps = uploadFilesStep(inputId, outputId);\n",
              "  const outputElement = document.getElementById(outputId);\n",
              "  // Cache steps on the outputElement to make it available for the next call\n",
              "  // to uploadFilesContinue from Python.\n",
              "  outputElement.steps = steps;\n",
              "\n",
              "  return _uploadFilesContinue(outputId);\n",
              "}\n",
              "\n",
              "// This is roughly an async generator (not supported in the browser yet),\n",
              "// where there are multiple asynchronous steps and the Python side is going\n",
              "// to poll for completion of each step.\n",
              "// This uses a Promise to block the python side on completion of each step,\n",
              "// then passes the result of the previous step as the input to the next step.\n",
              "function _uploadFilesContinue(outputId) {\n",
              "  const outputElement = document.getElementById(outputId);\n",
              "  const steps = outputElement.steps;\n",
              "\n",
              "  const next = steps.next(outputElement.lastPromiseValue);\n",
              "  return Promise.resolve(next.value.promise).then((value) => {\n",
              "    // Cache the last promise value to make it available to the next\n",
              "    // step of the generator.\n",
              "    outputElement.lastPromiseValue = value;\n",
              "    return next.value.response;\n",
              "  });\n",
              "}\n",
              "\n",
              "/**\n",
              " * Generator function which is called between each async step of the upload\n",
              " * process.\n",
              " * @param {string} inputId Element ID of the input file picker element.\n",
              " * @param {string} outputId Element ID of the output display.\n",
              " * @return {!Iterable<!Object>} Iterable of next steps.\n",
              " */\n",
              "function* uploadFilesStep(inputId, outputId) {\n",
              "  const inputElement = document.getElementById(inputId);\n",
              "  inputElement.disabled = false;\n",
              "\n",
              "  const outputElement = document.getElementById(outputId);\n",
              "  outputElement.innerHTML = '';\n",
              "\n",
              "  const pickedPromise = new Promise((resolve) => {\n",
              "    inputElement.addEventListener('change', (e) => {\n",
              "      resolve(e.target.files);\n",
              "    });\n",
              "  });\n",
              "\n",
              "  const cancel = document.createElement('button');\n",
              "  inputElement.parentElement.appendChild(cancel);\n",
              "  cancel.textContent = 'Cancel upload';\n",
              "  const cancelPromise = new Promise((resolve) => {\n",
              "    cancel.onclick = () => {\n",
              "      resolve(null);\n",
              "    };\n",
              "  });\n",
              "\n",
              "  // Wait for the user to pick the files.\n",
              "  const files = yield {\n",
              "    promise: Promise.race([pickedPromise, cancelPromise]),\n",
              "    response: {\n",
              "      action: 'starting',\n",
              "    }\n",
              "  };\n",
              "\n",
              "  cancel.remove();\n",
              "\n",
              "  // Disable the input element since further picks are not allowed.\n",
              "  inputElement.disabled = true;\n",
              "\n",
              "  if (!files) {\n",
              "    return {\n",
              "      response: {\n",
              "        action: 'complete',\n",
              "      }\n",
              "    };\n",
              "  }\n",
              "\n",
              "  for (const file of files) {\n",
              "    const li = document.createElement('li');\n",
              "    li.append(span(file.name, {fontWeight: 'bold'}));\n",
              "    li.append(span(\n",
              "        `(${file.type || 'n/a'}) - ${file.size} bytes, ` +\n",
              "        `last modified: ${\n",
              "            file.lastModifiedDate ? file.lastModifiedDate.toLocaleDateString() :\n",
              "                                    'n/a'} - `));\n",
              "    const percent = span('0% done');\n",
              "    li.appendChild(percent);\n",
              "\n",
              "    outputElement.appendChild(li);\n",
              "\n",
              "    const fileDataPromise = new Promise((resolve) => {\n",
              "      const reader = new FileReader();\n",
              "      reader.onload = (e) => {\n",
              "        resolve(e.target.result);\n",
              "      };\n",
              "      reader.readAsArrayBuffer(file);\n",
              "    });\n",
              "    // Wait for the data to be ready.\n",
              "    let fileData = yield {\n",
              "      promise: fileDataPromise,\n",
              "      response: {\n",
              "        action: 'continue',\n",
              "      }\n",
              "    };\n",
              "\n",
              "    // Use a chunked sending to avoid message size limits. See b/62115660.\n",
              "    let position = 0;\n",
              "    do {\n",
              "      const length = Math.min(fileData.byteLength - position, MAX_PAYLOAD_SIZE);\n",
              "      const chunk = new Uint8Array(fileData, position, length);\n",
              "      position += length;\n",
              "\n",
              "      const base64 = btoa(String.fromCharCode.apply(null, chunk));\n",
              "      yield {\n",
              "        response: {\n",
              "          action: 'append',\n",
              "          file: file.name,\n",
              "          data: base64,\n",
              "        },\n",
              "      };\n",
              "\n",
              "      let percentDone = fileData.byteLength === 0 ?\n",
              "          100 :\n",
              "          Math.round((position / fileData.byteLength) * 100);\n",
              "      percent.textContent = `${percentDone}% done`;\n",
              "\n",
              "    } while (position < fileData.byteLength);\n",
              "  }\n",
              "\n",
              "  // All done.\n",
              "  yield {\n",
              "    response: {\n",
              "      action: 'complete',\n",
              "    }\n",
              "  };\n",
              "}\n",
              "\n",
              "scope.google = scope.google || {};\n",
              "scope.google.colab = scope.google.colab || {};\n",
              "scope.google.colab._files = {\n",
              "  _uploadFiles,\n",
              "  _uploadFilesContinue,\n",
              "};\n",
              "})(self);\n",
              "</script> "
            ]
          },
          "metadata": {}
        },
        {
          "output_type": "stream",
          "name": "stdout",
          "text": [
            "Saving Groceries_dataset.csv to Groceries_dataset.csv\n"
          ]
        }
      ],
      "source": [
        "from google.colab import files\n",
        "uploaded = files.upload()"
      ]
    },
    {
      "cell_type": "markdown",
      "source": [
        "# Part 1: Data Preparation and Exploration"
      ],
      "metadata": {
        "id": "UMGpc2kvYVE0"
      }
    },
    {
      "cell_type": "markdown",
      "source": [
        "## Task 1.1: Load and Explore the Dataset"
      ],
      "metadata": {
        "id": "96Pv4eAStaBI"
      }
    },
    {
      "cell_type": "markdown",
      "source": [
        "### Load the dataset"
      ],
      "metadata": {
        "id": "Wc4-wyPIthCr"
      }
    },
    {
      "cell_type": "code",
      "source": [
        "df = pd.read_csv('Groceries_dataset.csv')\n",
        "# TODO 1.1.2: Explore the dataset structure\n",
        "# Print dataset shape, first 5 rows, and basic info\n",
        "print(\"Dataset shape:\", df.shape)\n",
        "print(\"\\nFirst 5 rows:\")\n",
        "print(df.head())\n",
        "\n",
        "print(\"\\nDataset info:\")\n",
        "df.info()\n",
        "\n",
        "# TODO 1.1.3: Check for missing values\n",
        "print(\"\\nMissing values:\")\n",
        "print(df.isnull().sum())\n",
        "\n",
        "# TODO 1.1.4: Examine unique values\n",
        "# Count unique members, items, and date range\n",
        "print(f\"\\nUnique members: {df['Member_number'].nunique()}\")\n",
        "print(f\"Unique items: {df['itemDescription'].nunique()}\")\n",
        "print(f\"Date range: {df['Date'].min()} to {df['Date'].max()}\")"
      ],
      "metadata": {
        "id": "ybN2UybftjY_",
        "colab": {
          "base_uri": "https://localhost:8080/"
        },
        "outputId": "62236f1d-8520-457c-cbb2-f9c50726908c"
      },
      "execution_count": 3,
      "outputs": [
        {
          "output_type": "stream",
          "name": "stdout",
          "text": [
            "Dataset shape: (38765, 3)\n",
            "\n",
            "First 5 rows:\n",
            "   Member_number        Date   itemDescription\n",
            "0           1808  21-07-2015    tropical fruit\n",
            "1           2552  05-01-2015        whole milk\n",
            "2           2300  19-09-2015         pip fruit\n",
            "3           1187  12-12-2015  other vegetables\n",
            "4           3037  01-02-2015        whole milk\n",
            "\n",
            "Dataset info:\n",
            "<class 'pandas.core.frame.DataFrame'>\n",
            "RangeIndex: 38765 entries, 0 to 38764\n",
            "Data columns (total 3 columns):\n",
            " #   Column           Non-Null Count  Dtype \n",
            "---  ------           --------------  ----- \n",
            " 0   Member_number    38765 non-null  int64 \n",
            " 1   Date             38765 non-null  object\n",
            " 2   itemDescription  38765 non-null  object\n",
            "dtypes: int64(1), object(2)\n",
            "memory usage: 908.7+ KB\n",
            "\n",
            "Missing values:\n",
            "Member_number      0\n",
            "Date               0\n",
            "itemDescription    0\n",
            "dtype: int64\n",
            "\n",
            "Unique members: 3898\n",
            "Unique items: 167\n",
            "Date range: 01-01-2014 to 31-10-2015\n"
          ]
        }
      ]
    },
    {
      "cell_type": "markdown",
      "source": [
        "## Task 1.2: Transform Data into Transaction Format"
      ],
      "metadata": {
        "id": "oq5hA1_Ytt24"
      }
    },
    {
      "cell_type": "code",
      "source": [
        "def create_transaction_list(df):\n",
        "    \"\"\"\n",
        "    Convert the dataframe into a list of transactions (itemsets)\n",
        "    Each transaction is a list of items bought together by the same member on the same date\n",
        "\n",
        "    TODO 1.2.1: Implement this function\n",
        "    Args:\n",
        "        df: DataFrame with columns Member_number, Date, itemDescription\n",
        "    Returns:\n",
        "        list: List of transactions, where each transaction is a list of items\n",
        "\n",
        "    Hints:\n",
        "    - Group by Member_number AND Date to get transactions\n",
        "    - Use groupby() and apply(list) to collect items\n",
        "    - Return the list of item lists\n",
        "    \"\"\"\n",
        "    # Step 1 & 2: Group by member and date, aggregate items into lists\n",
        "    grouped = df.groupby(['Member_number', 'Date'])['itemDescription'].apply(list)\n",
        "    # Step 3: Extract the list of transactions\n",
        "    transactions = grouped.tolist()\n",
        "    return transactions\n",
        "\n",
        "# TODO 1.2.2: Create transaction list and display statistics\n",
        "transactions = create_transaction_list(df)\n",
        "\n",
        "print(f\"Total transactions: {len(transactions)}\")\n",
        "print(f\"First 5 transactions:\")\n",
        "for i, transaction in enumerate(transactions[:5]):\n",
        "    print(f\"  {i+1}: {transaction}\")\n",
        "\n",
        "# TODO 1.2.3: Calculate transaction statistics\n",
        "# Calculate: average, min, max items per transaction\n",
        "transaction_lengths = [len(t) for t in transactions]\n",
        "print(f\"\\nTransaction length statistics:\")\n",
        "print(f\"Average items per transaction: {np.mean(transaction_lengths):.2f}\")\n",
        "print(f\"Min items: {np.min(transaction_lengths)}\")\n",
        "print(f\"Max items: {np.max(transaction_lengths)}\")"
      ],
      "metadata": {
        "colab": {
          "base_uri": "https://localhost:8080/"
        },
        "id": "wJ1bOZVnt399",
        "outputId": "5577e87b-7cd5-4ee8-def3-c4b3bb82af04"
      },
      "execution_count": 4,
      "outputs": [
        {
          "output_type": "stream",
          "name": "stdout",
          "text": [
            "Total transactions: 14963\n",
            "First 5 transactions:\n",
            "  1: ['sausage', 'whole milk', 'semi-finished bread', 'yogurt']\n",
            "  2: ['whole milk', 'pastry', 'salty snack']\n",
            "  3: ['canned beer', 'misc. beverages']\n",
            "  4: ['sausage', 'hygiene articles']\n",
            "  5: ['soda', 'pickled vegetables']\n",
            "\n",
            "Transaction length statistics:\n",
            "Average items per transaction: 2.59\n",
            "Min items: 2\n",
            "Max items: 11\n"
          ]
        }
      ]
    },
    {
      "cell_type": "markdown",
      "source": [
        "## Task 1.3: Visualize Data Patterns\n"
      ],
      "metadata": {
        "id": "a7Ux0h_Oxu2K"
      }
    },
    {
      "cell_type": "code",
      "source": [
        "# TODO 1.3.1: Create transaction length distribution plot\n",
        "plt.figure(figsize=(12, 5))\n",
        "\n",
        "plt.subplot(1, 2, 1)\n",
        "# TODO: Create histogram of transaction_lengths\n",
        "plt.hist(transaction_lengths, bins=20, edgecolor='black', alpha=0.7)\n",
        "plt.xlabel('Number of Items per Transaction')\n",
        "plt.ylabel('Frequency')\n",
        "plt.title('Distribution of Transaction Lengths')\n",
        "\n",
        "# TODO 1.3.2: Create most frequent items plot\n",
        "# Step 1: Flatten all items from all transactions into one list\n",
        "all_items = [item for transaction in transactions for item in transaction]\n",
        "\n",
        "# Step 2: Count item frequencies\n",
        "item_counts = Counter(all_items)\n",
        "top_20_items = item_counts.most_common(20)\n",
        "\n",
        "plt.subplot(1, 2, 2)\n",
        "# TODO: Create bar plot of top 20 items\n",
        "items = [item[0] for item in top_20_items]\n",
        "counts = [item[1] for item in top_20_items]\n",
        "plt.bar(items, counts, color='skyblue')\n",
        "plt.xlabel('Items')\n",
        "plt.ylabel('Frequency')\n",
        "plt.title('Top 20 Most Frequent Items')\n",
        "# TODO: Set x-axis labels with rotation\n",
        "plt.xticks(rotation=45, ha='right')\n",
        "\n",
        "plt.tight_layout()\n",
        "plt.show()\n",
        "\n",
        "# TODO 1.3.3: Print top 10 items with percentages\n",
        "print(\"\\nTop 10 most frequent items:\")\n",
        "total_items = len(all_items)\n",
        "for item, count in top_20_items[:10]:\n",
        "    percentage = (count / total_items) * 100\n",
        "    print(f\"  {item}: {count} ({percentage:.2f}%)\")"
      ],
      "metadata": {
        "colab": {
          "base_uri": "https://localhost:8080/",
          "height": 710
        },
        "id": "sOGhJbYXxzVy",
        "outputId": "9d396b81-51d5-4104-ccb1-3905893330ad"
      },
      "execution_count": 5,
      "outputs": [
        {
          "output_type": "display_data",
          "data": {
            "text/plain": [
              "<Figure size 1200x500 with 2 Axes>"
            ],
            "image/png": "[encoded data removed]"
          },
          "metadata": {}
        },
        {
          "output_type": "stream",
          "name": "stdout",
          "text": [
            "\n",
            "Top 10 most frequent items:\n",
            "  whole milk: 2502 (6.45%)\n",
            "  other vegetables: 1898 (4.90%)\n",
            "  rolls/buns: 1716 (4.43%)\n",
            "  soda: 1514 (3.91%)\n",
            "  yogurt: 1334 (3.44%)\n",
            "  root vegetables: 1071 (2.76%)\n",
            "  tropical fruit: 1032 (2.66%)\n",
            "  bottled water: 933 (2.41%)\n",
            "  sausage: 924 (2.38%)\n",
            "  citrus fruit: 812 (2.09%)\n"
          ]
        }
      ]
    },
    {
      "cell_type": "markdown",
      "source": [
        "# Part 2: Implement Apriori Algorithm Core Functions\n"
      ],
      "metadata": {
        "id": "24O0c0qWyGMj"
      }
    },
    {
      "cell_type": "markdown",
      "source": [
        "## Task 2.1: Calculate Support\n"
      ],
      "metadata": {
        "id": "vHk9w1d6yIOe"
      }
    },
    {
      "cell_type": "code",
      "source": [
        "def calculate_support(itemset, transactions):\n",
        "    \"\"\"\n",
        "    Calculate support for an itemset\n",
        "    Support = (Number of transactions containing itemset) / (Total number of transactions)\n",
        "\n",
        "    TODO 2.1.1: Implement support calculation\n",
        "    Args:\n",
        "        itemset: frozenset of items to check\n",
        "        transactions: list of transactions (lists of items)\n",
        "\n",
        "    Returns:\n",
        "        float: support value between 0 and 1\n",
        "\n",
        "    Hints:\n",
        "    - Loop through all transactions\n",
        "    - Check if itemset is a subset of each transaction\n",
        "    - Count how many transactions contain the itemset\n",
        "    - Divide by total number of transactions\n",
        "    \"\"\"\n",
        "    count = 0\n",
        "    for transaction in transactions:\n",
        "        if itemset.issubset(set(transaction)):\n",
        "            count += 1\n",
        "    return count / len(transactions)\n",
        "\n",
        "# TODO 2.1.2: Test the function\n",
        "test_itemset = frozenset(['whole milk'])\n",
        "support = calculate_support(test_itemset, transactions)\n",
        "print(f\"Support for {set(test_itemset)}: {support:.4f}\")\n",
        "\n",
        "# TODO 2.1.3: Test with a 2-itemset\n",
        "test_itemset_2 = frozenset(['whole milk', 'rolls/buns'])  # Choose two items\n",
        "support_2 = calculate_support(test_itemset_2, transactions)\n",
        "print(f\"Support for {set(test_itemset_2)}: {support_2:.4f}\")"
      ],
      "metadata": {
        "colab": {
          "base_uri": "https://localhost:8080/"
        },
        "id": "xJEJqsMUyLvu",
        "outputId": "a3365baa-288a-4b6e-dfc7-6f0a350d108a"
      },
      "execution_count": 6,
      "outputs": [
        {
          "output_type": "stream",
          "name": "stdout",
          "text": [
            "Support for {'whole milk'}: 0.1579\n",
            "Support for {'rolls/buns', 'whole milk'}: 0.0140\n"
          ]
        }
      ]
    },
    {
      "cell_type": "markdown",
      "source": [
        "## Task 2.2: Generate Candidate Itemsets"
      ],
      "metadata": {
        "id": "Kz4c0YowyZ2U"
      }
    },
    {
      "cell_type": "code",
      "source": [
        "def generate_candidates(frequent_itemsets, k):\n",
        "    \"\"\"\n",
        "    Generate candidate itemsets of size k from frequent itemsets of size k-1\n",
        "    This uses the \"join\" step of the Apriori algorithm\n",
        "\n",
        "    TODO 2.2.1: Implement candidate generation\n",
        "    Args:\n",
        "        frequent_itemsets: set of frequent itemsets of size k-1\n",
        "        k: size of candidates to generate\n",
        "\n",
        "    Returns:\n",
        "        set of candidate itemsets of size k\n",
        "\n",
        "    Hints:\n",
        "    - Convert frequent_itemsets to a list for easier iteration\n",
        "    - For each pair of itemsets, compute their union\n",
        "    - Only keep unions that have exactly k items\n",
        "    - Use frozenset for immutable sets\n",
        "    \"\"\"\n",
        "    candidates = set()\n",
        "    frequent_list = list(frequent_itemsets)\n",
        "\n",
        "    for i in range(len(frequent_list)):\n",
        "        for j in range(i + 1, len(frequent_list)):\n",
        "            itemset1 = frequent_list[i]\n",
        "            itemset2 = frequent_list[j]\n",
        "            # Join step: combine two (k-1)-itemsets if they differ by only one item\n",
        "            union_set = itemset1.union(itemset2)\n",
        "            if len(union_set) == k:\n",
        "                candidates.add(union_set)\n",
        "\n",
        "    return candidates\n",
        "\n",
        "# TODO 2.2.2: Test candidate generation\n",
        "frequent_1_test = {frozenset(['A']), frozenset(['B']), frozenset(['C'])}\n",
        "candidates_2_test = generate_candidates(frequent_1_test, 2)\n",
        "print(f\"Generated 2-itemset candidates: {[set(c) for c in candidates_2_test]}\")\n",
        "\n",
        "# TODO 2.2.3: Test with larger example\n",
        "frequent_2_test = {frozenset(['A', 'B']), frozenset(['A', 'C']), frozenset(['B', 'C'])}\n",
        "candidates_3_test = generate_candidates(frequent_2_test, 3)\n",
        "print(f\"Generated 3-itemset candidates: {[set(c) for c in candidates_3_test]}\")"
      ],
      "metadata": {
        "colab": {
          "base_uri": "https://localhost:8080/"
        },
        "id": "6TJd-Sgeyc2Q",
        "outputId": "2e5cec5c-f795-4cb4-ba96-a57d36b412e4"
      },
      "execution_count": 7,
      "outputs": [
        {
          "output_type": "stream",
          "name": "stdout",
          "text": [
            "Generated 2-itemset candidates: [{'B', 'C'}, {'A', 'B'}, {'A', 'C'}]\n",
            "Generated 3-itemset candidates: [{'A', 'B', 'C'}]\n"
          ]
        }
      ]
    },
    {
      "cell_type": "markdown",
      "source": [
        "## Task 2.3: Find Frequent Itemsets (Main Apriori Algorithm)\n"
      ],
      "metadata": {
        "id": "Vt45bFQty8kB"
      }
    },
    {
      "cell_type": "code",
      "source": [
        "def find_frequent_itemsets(transactions, min_support):\n",
        "    \"\"\"\n",
        "    Find all frequent itemsets using the Apriori algorithm\n",
        "\n",
        "    TODO 2.3.1: Implement the complete Apriori algorithm\n",
        "    Args:\n",
        "        transactions: list of transactions\n",
        "        min_support: minimum support threshold\n",
        "\n",
        "    Returns:\n",
        "        dict: {k: set of frequent k-itemsets}\n",
        "\n",
        "    Algorithm Steps:\n",
        "    1. Find frequent 1-itemsets\n",
        "    2. For k = 2, 3, 4, ... until no more frequent itemsets:\n",
        "        a. Generate candidate k-itemsets from frequent (k-1)-itemsets\n",
        "        b. Test each candidate for minimum support\n",
        "        c. Keep candidates that meet minimum support\n",
        "    3. Return all frequent itemsets\n",
        "    \"\"\"\n",
        "    frequent_itemsets = {}\n",
        "\n",
        "    # TODO 2.3.2: Find frequent 1-itemsets\n",
        "    print(\"Finding frequent 1-itemsets...\")\n",
        "\n",
        "    # Step 1: Get all unique items\n",
        "    all_items = set(item for transaction in transactions for item in transaction)\n",
        "\n",
        "    # Step 2: Test each item for frequency\n",
        "    frequent_1 = set()\n",
        "    for item in all_items:\n",
        "        itemset = frozenset([item])\n",
        "        support = calculate_support(itemset, transactions)\n",
        "        if support >= min_support:\n",
        "            frequent_1.add(itemset)\n",
        "\n",
        "    frequent_itemsets[1] = frequent_1\n",
        "    print(f\"Found {len(frequent_1)} frequent 1-itemsets\")\n",
        "\n",
        "    # TODO 2.3.3: Generate frequent k-itemsets for k > 1\n",
        "    k = 2\n",
        "    while frequent_itemsets[k-1]:  # Continue while previous level has itemsets\n",
        "        print(f\"Finding frequent {k}-itemsets...\")\n",
        "\n",
        "        # TODO: Generate candidates using your generate_candidates function\n",
        "        candidates = generate_candidates(frequent_itemsets[k-1], k)\n",
        "\n",
        "        # TODO: Test candidates for frequency\n",
        "        frequent_k = set()\n",
        "        for candidate in candidates:\n",
        "            support = calculate_support(candidate, transactions)\n",
        "            if support >= min_support:\n",
        "                frequent_k.add(candidate)\n",
        "\n",
        "        # TODO: Add frequent_k to results if it's not empty, otherwise break\n",
        "        if frequent_k:\n",
        "            frequent_itemsets[k] = frequent_k\n",
        "            print(f\"Found {len(frequent_k)} frequent {k}-itemsets\")\n",
        "            k += 1\n",
        "        else:\n",
        "            break\n",
        "\n",
        "    return frequent_itemsets\n",
        "\n",
        "# TODO 2.3.4: Run the algorithm\n",
        "min_support = 0.01  # 1% minimum support\n",
        "print(f\"\\nRunning Apriori with minimum support = {min_support}\")\n",
        "start_time = time.time()\n",
        "frequent_itemsets = find_frequent_itemsets(transactions, min_support)\n",
        "end_time = time.time()\n",
        "print(f\"Apriori algorithm finished in {end_time - start_time:.2f} seconds.\")\n",
        "\n",
        "# TODO 2.3.5: Display results summary\n",
        "print(f\"\\nFrequent itemsets summary:\")\n",
        "for k, itemsets in frequent_itemsets.items():\n",
        "    print(f\"  {k}-itemsets: {len(itemsets)}\")\n",
        "\n",
        "# TODO 2.3.6: Show some examples of frequent itemsets\n",
        "print(f\"\\nExample frequent itemsets:\")\n",
        "for k, itemsets in frequent_itemsets.items():\n",
        "    if itemsets:\n",
        "        example_itemsets = list(itemsets)[:3]  # Show first 3\n",
        "        for itemset in example_itemsets:\n",
        "            support = calculate_support(itemset, transactions)\n",
        "            print(f\"  {set(itemset)}: support = {support:.4f}\")"
      ],
      "metadata": {
        "colab": {
          "base_uri": "https://localhost:8080/"
        },
        "id": "fMrJ9z6gy95R",
        "outputId": "145494ca-407f-4438-9593-1f4a5b51706c"
      },
      "execution_count": 8,
      "outputs": [
        {
          "output_type": "stream",
          "name": "stdout",
          "text": [
            "\n",
            "Running Apriori with minimum support = 0.01\n",
            "Finding frequent 1-itemsets...\n",
            "Found 64 frequent 1-itemsets\n",
            "Finding frequent 2-itemsets...\n",
            "Found 5 frequent 2-itemsets\n",
            "Finding frequent 3-itemsets...\n",
            "Apriori algorithm finished in 7.48 seconds.\n",
            "\n",
            "Frequent itemsets summary:\n",
            "  1-itemsets: 64\n",
            "  2-itemsets: 5\n",
            "\n",
            "Example frequent itemsets:\n",
            "  {'processed cheese'}: support = 0.0102\n",
            "  {'specialty chocolate'}: support = 0.0160\n",
            "  {'hard cheese'}: support = 0.0147\n",
            "  {'soda', 'whole milk'}: support = 0.0116\n",
            "  {'other vegetables', 'rolls/buns'}: support = 0.0106\n",
            "  {'rolls/buns', 'whole milk'}: support = 0.0140\n"
          ]
        }
      ]
    },
    {
      "cell_type": "markdown",
      "source": [
        "# Part 3: Generate Association Rules\n"
      ],
      "metadata": {
        "id": "0m4xfTwuzKC5"
      }
    },
    {
      "cell_type": "markdown",
      "source": [
        "## Task 3.1: Implement Association Rule Generation\n"
      ],
      "metadata": {
        "id": "PIOK5NVjzLi7"
      }
    },
    {
      "cell_type": "code",
      "source": [
        "def generate_association_rules(frequent_itemsets, transactions, min_confidence):\n",
        "    \"\"\"\n",
        "    Generate association rules from frequent itemsets\n",
        "    Rule: X → Y where X ∪ Y is a frequent itemset\n",
        "\n",
        "    TODO 3.1.1: Implement association rule generation\n",
        "    Args:\n",
        "        frequent_itemsets: dict of frequent itemsets\n",
        "        transactions: list of transactions\n",
        "        min_confidence: minimum confidence threshold\n",
        "\n",
        "    Returns:\n",
        "        list of association rules with metrics\n",
        "\n",
        "    For each frequent itemset of size ≥ 2:\n",
        "    1. Generate all possible ways to split it into antecedent → consequent\n",
        "    2. Calculate confidence = support(antecedent ∪ consequent) / support(antecedent)\n",
        "    3. Keep rules with confidence ≥ min_confidence\n",
        "    4. Calculate lift = confidence / support(consequent)\n",
        "    \"\"\"\n",
        "    rules = []\n",
        "\n",
        "    # TODO 3.1.2: Generate rules from itemsets of size 2 and above\n",
        "    # Iterate through itemsets from size 2 upwards\n",
        "    for k in sorted(frequent_itemsets.keys()):\n",
        "        if k < 2:\n",
        "            continue\n",
        "        for itemset in frequent_itemsets[k]:\n",
        "            items = list(itemset)\n",
        "\n",
        "            # TODO: Generate all possible antecedent-consequent pairs\n",
        "            # For itemset {A,B,C}, possible antecedents: {A}, {B}, {C}, {A,B}, {A,C}, {B,C}\n",
        "\n",
        "            # Loop through all possible sizes for the antecedent (from 1 to k-1)\n",
        "            for i in range(1, len(items)):  # i is size of antecedent\n",
        "                for antecedent_items in combinations(items, i):\n",
        "                    antecedent = frozenset(antecedent_items)\n",
        "                    consequent = itemset - antecedent\n",
        "\n",
        "                    # TODO 3.1.3: Calculate metrics\n",
        "                    support_itemset = calculate_support(itemset, transactions)\n",
        "                    support_antecedent = calculate_support(antecedent, transactions)\n",
        "\n",
        "                    if support_antecedent > 0:\n",
        "                        # TODO: Calculate confidence\n",
        "                        confidence = support_itemset / support_antecedent\n",
        "\n",
        "                        if confidence >= min_confidence:\n",
        "                            # TODO: Calculate lift\n",
        "                            support_consequent = calculate_support(consequent, transactions)\n",
        "                            lift = confidence / support_consequent if support_consequent > 0 else 0\n",
        "\n",
        "                            # TODO: Add rule to results\n",
        "                            rules.append({\n",
        "                                'antecedent': set(antecedent),\n",
        "                                'consequent': set(consequent),\n",
        "                                'support': support_itemset,\n",
        "                                'confidence': confidence,\n",
        "                                'lift': lift\n",
        "                            })\n",
        "\n",
        "    return rules\n",
        "\n",
        "# TODO 3.1.4: Generate rules and analyze them\n",
        "min_confidence = 0.3  # 30% minimum confidence\n",
        "print(f\"Generating association rules with minimum confidence = {min_confidence}\")\n",
        "\n",
        "rules = generate_association_rules(frequent_itemsets, transactions, min_confidence)\n",
        "print(f\"Generated {len(rules)} association rules\")\n",
        "\n",
        "# TODO 3.1.5: Sort rules by confidence and display top 10\n",
        "# Hint: Use rules.sort(key=lambda x: x['confidence'], reverse=True)\n",
        "rules.sort(key=lambda x: x['confidence'], reverse=True)\n",
        "\n",
        "print(f\"\\nTop 10 association rules by confidence:\")\n",
        "# TODO: Loop through top 10 rules and display them nicely\n",
        "for i, rule in enumerate(rules[:10]):\n",
        "    print(f\"  {i+1}. {rule['antecedent']} -> {rule['consequent']}\")\n",
        "    print(f\"     Support: {rule['support']:.4f}, Confidence: {rule['confidence']:.4f}, Lift: {rule['lift']:.4f}\")"
      ],
      "metadata": {
        "colab": {
          "base_uri": "https://localhost:8080/"
        },
        "id": "kmb2meE8zOfE",
        "outputId": "baf0b525-8e13-4b88-ba78-6e3d841bddf7"
      },
      "execution_count": 9,
      "outputs": [
        {
          "output_type": "stream",
          "name": "stdout",
          "text": [
            "Generating association rules with minimum confidence = 0.3\n",
            "Generated 0 association rules\n",
            "\n",
            "Top 10 association rules by confidence:\n"
          ]
        }
      ]
    },
    {
      "cell_type": "markdown",
      "source": [
        "## Task 3.2: Rule Analysis and Filtering\n"
      ],
      "metadata": {
        "id": "0AiLTUO8zbwx"
      }
    },
    {
      "cell_type": "code",
      "source": [
        "def analyze_rules(rules):\n",
        "    \"\"\"\n",
        "    Analyze and filter association rules based on different criteria\n",
        "\n",
        "    TODO 3.2.1: Implement comprehensive rule analysis\n",
        "    \"\"\"\n",
        "    print(\"=== ASSOCIATION RULES ANALYSIS ===\\n\")\n",
        "\n",
        "    # TODO 3.2.2: Rules with highest lift\n",
        "    print(\"TOP 10 RULES BY LIFT (Most surprising associations):\")\n",
        "    rules_by_lift = sorted(rules, key=lambda x: x['lift'], reverse=True)\n",
        "    for i, rule in enumerate(rules_by_lift[:10]):\n",
        "        print(f\"  {i+1}. {rule['antecedent']} -> {rule['consequent']}\")\n",
        "        print(f\"     Support: {rule['support']:.4f}, Confidence: {rule['confidence']:.4f}, Lift: {rule['lift']:.4f}\")\n",
        "\n",
        "    # TODO 3.2.3: Rules with highest support\n",
        "    print(\"\\nTOP 10 RULES BY SUPPORT (Most frequent associations):\")\n",
        "    rules_by_support = sorted(rules, key=lambda x: x['support'], reverse=True)\n",
        "    for i, rule in enumerate(rules_by_support[:10]):\n",
        "        print(f\"  {i+1}. {rule['antecedent']} -> {rule['consequent']}\")\n",
        "        print(f\"     Support: {rule['support']:.4f}, Confidence: {rule['confidence']:.4f}, Lift: {rule['lift']:.4f}\")\n",
        "\n",
        "    # TODO 3.2.4: Balanced rules (good confidence AND lift)\n",
        "    print(f\"\\nBALANCED RULES (Confidence > 0.5 and Lift > 1.5):\")\n",
        "    balanced_rules = [\n",
        "        rule for rule in rules if rule['confidence'] > 0.5 and rule['lift'] > 1.5\n",
        "    ]\n",
        "    # Sort by confidence * lift product for a combined score\n",
        "    balanced_rules_sorted = sorted(balanced_rules, key=lambda x: x['confidence'] * x['lift'], reverse=True)\n",
        "    for i, rule in enumerate(balanced_rules_sorted[:10]): # Show top 10 balanced rules\n",
        "        print(f\"  {i+1}. {rule['antecedent']} -> {rule['consequent']}\")\n",
        "        print(f\"     Support: {rule['support']:.4f}, Confidence: {rule['confidence']:.4f}, Lift: {rule['lift']:.4f}\")\n",
        "\n",
        "    # TODO 3.2.5: Rules for specific items\n",
        "    print(f\"\\nRULES INVOLVING 'whole milk':\")\n",
        "    whole_milk_rules = [\n",
        "        rule for rule in rules\n",
        "        if 'whole milk' in rule['antecedent'] or 'whole milk' in rule['consequent']\n",
        "    ]\n",
        "    # Sort by confidence for better readability\n",
        "    whole_milk_rules_sorted = sorted(whole_milk_rules, key=lambda x: x['confidence'], reverse=True)\n",
        "    for i, rule in enumerate(whole_milk_rules_sorted[:10]): # Show top 10 rules involving whole milk\n",
        "        print(f\"  {i+1}. {rule['antecedent']} -> {rule['consequent']}\")\n",
        "        print(f\"     Support: {rule['support']:.4f}, Confidence: {rule['confidence']:.4f}, Lift: {rule['lift']:.4f}\")\n",
        "\n",
        "# TODO 3.2.6: Run the analysis\n",
        "analyze_rules(rules)"
      ],
      "metadata": {
        "colab": {
          "base_uri": "https://localhost:8080/"
        },
        "id": "d05Covkgzez-",
        "outputId": "457662ce-6ef4-44e6-ac39-455f4f3620f0"
      },
      "execution_count": 10,
      "outputs": [
        {
          "output_type": "stream",
          "name": "stdout",
          "text": [
            "=== ASSOCIATION RULES ANALYSIS ===\n",
            "\n",
            "TOP 10 RULES BY LIFT (Most surprising associations):\n",
            "\n",
            "TOP 10 RULES BY SUPPORT (Most frequent associations):\n",
            "\n",
            "BALANCED RULES (Confidence > 0.5 and Lift > 1.5):\n",
            "\n",
            "RULES INVOLVING 'whole milk':\n"
          ]
        }
      ]
    },
    {
      "cell_type": "markdown",
      "source": [
        "# Part 4: Visualization and Business Insights\n"
      ],
      "metadata": {
        "id": "l9wUDtU3z3si"
      }
    },
    {
      "cell_type": "markdown",
      "source": [
        "## Task 4.1: Create Rule Visualizations\n"
      ],
      "metadata": {
        "id": "j0WwK-BRz6pZ"
      }
    },
    {
      "cell_type": "code",
      "source": [
        "def visualize_rules(rules):\n",
        "    \"\"\"\n",
        "    Create visualizations for association rules\n",
        "\n",
        "    TODO 4.1.1: Implement rule visualizations\n",
        "    \"\"\"\n",
        "    if not rules:\n",
        "        print(\"No rules to visualize!\")\n",
        "        return\n",
        "\n",
        "    fig, axes = plt.subplots(2, 2, figsize=(15, 10))\n",
        "    fig.suptitle('Association Rule Metrics Distributions and Relationships', fontsize=16)\n",
        "\n",
        "    # TODO 4.1.2: Extract metrics for plotting\n",
        "    supports = [rule['support'] for rule in rules]\n",
        "    confidences = [rule['confidence'] for rule in rules]\n",
        "    lifts = [rule['lift'] for rule in rules]\n",
        "\n",
        "    # TODO 4.1.3: Support vs Confidence scatter plot (colored by Lift)\n",
        "    scatter = axes[0,0].scatter(supports, confidences, c=lifts, cmap='viridis', alpha=0.6)\n",
        "    axes[0,0].set_xlabel('Support')\n",
        "    axes[0,0].set_ylabel('Confidence')\n",
        "    axes[0,0].set_title('Support vs Confidence (colored by Lift)')\n",
        "    plt.colorbar(scatter, ax=axes[0,0], label='Lift')\n",
        "    axes[0,0].grid(True, linestyle='--', alpha=0.7)\n",
        "\n",
        "    # TODO 4.1.4: Lift distribution histogram\n",
        "    axes[0,1].hist(lifts, bins=30, edgecolor='black', alpha=0.7)\n",
        "    axes[0,1].axvline(1, color='red', linestyle='--', label='Lift = 1 (No Association)')\n",
        "    axes[0,1].set_xlabel('Lift')\n",
        "    axes[0,1].set_ylabel('Frequency')\n",
        "    axes[0,1].set_title('Distribution of Lift Values')\n",
        "    axes[0,1].legend()\n",
        "    axes[0,1].grid(True, linestyle='--', alpha=0.7)\n",
        "\n",
        "    # TODO 4.1.5: Confidence distribution histogram\n",
        "    axes[1,0].hist(confidences, bins=30, edgecolor='black', alpha=0.7, color='lightgreen')\n",
        "    axes[1,0].set_xlabel('Confidence')\n",
        "    axes[1,0].set_ylabel('Frequency')\n",
        "    axes[1,0].set_title('Distribution of Confidence Values')\n",
        "    axes[1,0].grid(True, linestyle='--', alpha=0.7)\n",
        "\n",
        "    # TODO 4.1.6: Support distribution histogram\n",
        "    axes[1,1].hist(supports, bins=30, edgecolor='black', alpha=0.7, color='coral')\n",
        "    axes[1,1].set_xlabel('Support')\n",
        "    axes[1,1].set_ylabel('Frequency')\n",
        "    axes[1,1].set_title('Distribution of Support Values')\n",
        "    axes[1,1].grid(True, linestyle='--', alpha=0.7)\n",
        "\n",
        "    plt.tight_layout(rect=[0, 0.03, 1, 0.95]) # Adjust layout to make space for suptitle\n",
        "    plt.show()\n",
        "\n",
        "# TODO 4.1.7: Create visualizations\n",
        "visualize_rules(rules)"
      ],
      "metadata": {
        "id": "m6nzgS4Oz9Ep",
        "colab": {
          "base_uri": "https://localhost:8080/"
        },
        "outputId": "3b46fae6-cec5-4e1a-f3e7-f7be24fe0366"
      },
      "execution_count": 11,
      "outputs": [
        {
          "output_type": "stream",
          "name": "stdout",
          "text": [
            "No rules to visualize!\n"
          ]
        }
      ]
    },
    {
      "cell_type": "markdown",
      "source": [
        "## Task 4.2: Business Insights and Recommendations\n"
      ],
      "metadata": {
        "id": "5-7u81970-bZ"
      }
    },
    {
      "cell_type": "code",
      "source": [
        "def generate_business_insights(rules, transactions):\n",
        "    \"\"\"\n",
        "    Generate actionable business insights from association rules\n",
        "\n",
        "    TODO 4.2.1: Implement business insight generation\n",
        "    \"\"\"\n",
        "    print(\"=== BUSINESS INSIGHTS AND RECOMMENDATIONS ===\\n\")\n",
        "\n",
        "    # Sort rules by confidence for cross-selling\n",
        "    rules_sorted_by_confidence = sorted(rules, key=lambda x: x['confidence'], reverse=True)\n",
        "    # Sort rules by lift for surprising associations (store layout, marketing)\n",
        "    rules_sorted_by_lift = sorted(rules, key=lambda x: x['lift'], reverse=True)\n",
        "    # Sort rules by support for frequently bought together items\n",
        "    rules_sorted_by_support = sorted(rules, key=lambda x: x['support'], reverse=True)\n",
        "\n",
        "\n",
        "    # TODO 4.2.2: Cross-selling opportunities\n",
        "    print(\"CROSS-SELLING OPPORTUNITIES:\")\n",
        "    print(\"When customers buy these items, they're likely to also buy:\")\n",
        "    # Find rules with high confidence (> 60%) and lift > 1\n",
        "    cross_sell_rules = [\n",
        "        rule for rule in rules_sorted_by_confidence if rule['confidence'] > 0.6 and rule['lift'] > 1\n",
        "    ][:5] # Top 5\n",
        "    if cross_sell_rules:\n",
        "        for i, rule in enumerate(cross_sell_rules):\n",
        "            print(f\"  {i+1}. If a customer buys {list(rule['antecedent'])}, they are {rule['confidence']:.2%} likely to also buy {list(rule['consequent'])}.\")\n",
        "    else:\n",
        "        print(\"  No strong cross-selling rules found at this confidence level.\")\n",
        "\n",
        "\n",
        "    # TODO 4.2.3: Product bundling suggestions\n",
        "    print(f\"\\nPRODUCT BUNDLING SUGGESTIONS:\")\n",
        "    print(\"Items frequently bought together (high support + good lift):\")\n",
        "    # Find rules with support > 0.02 and lift > 1.3\n",
        "    bundle_rules = [\n",
        "        rule for rule in rules_sorted_by_lift if rule['support'] > 0.02 and rule['lift'] > 1.3\n",
        "    ][:5] # Top 5\n",
        "    if bundle_rules:\n",
        "        for i, rule in enumerate(bundle_rules):\n",
        "            print(f\"  {i+1}. Consider bundling {list(rule['antecedent'])} with {list(rule['consequent'])} (Support: {rule['support']:.2%}, Lift: {rule['lift']:.2f}).\")\n",
        "    else:\n",
        "        print(\"  No strong product bundling suggestions found at these thresholds.\")\n",
        "\n",
        "    # TODO 4.2.4: Store layout recommendations\n",
        "    print(f\"\\nSTORE LAYOUT RECOMMENDATIONS:\")\n",
        "    print(\"Place these items near each other:\")\n",
        "    # Find rules with highest lift values (indicating strong, non-obvious relationships)\n",
        "    layout_rules = [\n",
        "        rule for rule in rules_sorted_by_lift if rule['lift'] > 1.5\n",
        "    ][:5] # Top 5\n",
        "    if layout_rules:\n",
        "        for i, rule in enumerate(layout_rules):\n",
        "            print(f\"  {i+1}. Items {list(rule['antecedent'])} and {list(rule['consequent'])} show a strong positive association (Lift: {rule['lift']:.2f}). Consider placing them in proximity.\")\n",
        "    else:\n",
        "        print(\"  No strong store layout recommendations based on high lift.\")\n",
        "\n",
        "    # TODO 4.2.5: Marketing insights\n",
        "    print(f\"\\nMARKETING INSIGHTS:\")\n",
        "    # Find unexpected associations (high lift, moderate support)\n",
        "    marketing_rules = [\n",
        "        rule for rule in rules_sorted_by_lift if rule['lift'] > 2 and rule['support'] > 0.005\n",
        "    ][:5] # Top 5\n",
        "    if marketing_rules:\n",
        "        for i, rule in enumerate(marketing_rules):\n",
        "            print(f\"  {i+1}. Target customers who buy {list(rule['antecedent'])} with promotions for {list(rule['consequent'])}. This is a surprising association (Lift: {rule['lift']:.2f}).\")\n",
        "    else:\n",
        "        print(\"  No specific marketing insights found with high lift and moderate support.\")\n",
        "\n",
        "# TODO 4.2.6: Generate insights\n",
        "generate_business_insights(rules, transactions)"
      ],
      "metadata": {
        "id": "hcw6dDIi1CC-",
        "colab": {
          "base_uri": "https://localhost:8080/"
        },
        "outputId": "5d33a5c6-b613-44d9-d53c-54470e531d1f"
      },
      "execution_count": 12,
      "outputs": [
        {
          "output_type": "stream",
          "name": "stdout",
          "text": [
            "=== BUSINESS INSIGHTS AND RECOMMENDATIONS ===\n",
            "\n",
            "CROSS-SELLING OPPORTUNITIES:\n",
            "When customers buy these items, they're likely to also buy:\n",
            "  No strong cross-selling rules found at this confidence level.\n",
            "\n",
            "PRODUCT BUNDLING SUGGESTIONS:\n",
            "Items frequently bought together (high support + good lift):\n",
            "  No strong product bundling suggestions found at these thresholds.\n",
            "\n",
            "STORE LAYOUT RECOMMENDATIONS:\n",
            "Place these items near each other:\n",
            "  No strong store layout recommendations based on high lift.\n",
            "\n",
            "MARKETING INSIGHTS:\n",
            "  No specific marketing insights found with high lift and moderate support.\n"
          ]
        }
      ]
    },
    {
      "cell_type": "markdown",
      "source": [
        "# Part 5: Advanced Analysis and Optimization\n"
      ],
      "metadata": {
        "id": "ZvPmHaJl1t7F"
      }
    },
    {
      "cell_type": "markdown",
      "source": [
        "## Task 5.1: Parameter Sensitivity Analysis\n"
      ],
      "metadata": {
        "id": "4_tcth0C1yCi"
      }
    },
    {
      "cell_type": "code",
      "source": [
        "def parameter_sensitivity_analysis(transactions):\n",
        "    \"\"\"\n",
        "    Analyze how different parameter values affect the results\n",
        "\n",
        "    TODO 5.1.1: Implement sensitivity analysis\n",
        "    \"\"\"\n",
        "    print(\"=== PARAMETER SENSITIVITY ANALYSIS ===\\n\")\n",
        "\n",
        "    support_thresholds = [0.005, 0.01, 0.02, 0.03, 0.05]\n",
        "    confidence_thresholds = [0.2, 0.3, 0.5, 0.7]\n",
        "\n",
        "    results = []\n",
        "\n",
        "    # TODO 5.1.2: Test different parameter combinations\n",
        "    for min_sup in support_thresholds:\n",
        "        print(f\"Testing minimum support = {min_sup}\")\n",
        "        # TODO: Generate frequent itemsets with this support\n",
        "        current_frequent_itemsets = find_frequent_itemsets(transactions, min_sup)\n",
        "\n",
        "        for min_conf in confidence_thresholds:\n",
        "            print(f\"  Testing minimum confidence = {min_conf}\")\n",
        "            # TODO: Generate rules with this confidence\n",
        "            current_rules = generate_association_rules(current_frequent_itemsets, transactions, min_conf)\n",
        "\n",
        "            # TODO: Calculate metrics and store results\n",
        "            num_frequent_itemsets = sum(len(s) for s in current_frequent_itemsets.values())\n",
        "            num_rules = len(current_rules)\n",
        "            avg_confidence = np.mean([r['confidence'] for r in current_rules]) if num_rules > 0 else 0\n",
        "            avg_lift = np.mean([r['lift'] for r in current_rules]) if num_rules > 0 else 0\n",
        "\n",
        "            results.append({\n",
        "                'min_support': min_sup,\n",
        "                'min_confidence': min_conf,\n",
        "                'num_frequent_itemsets': num_frequent_itemsets,\n",
        "                'num_rules': num_rules,\n",
        "                'avg_confidence': avg_confidence,\n",
        "                'avg_lift': avg_lift\n",
        "            })\n",
        "            print(f\"    - Found {num_rules} rules with avg confidence {avg_confidence:.2f}, avg lift {avg_lift:.2f}\")\n",
        "\n",
        "    # TODO 5.1.3: Create visualizations of results\n",
        "    results_df = pd.DataFrame(results)\n",
        "\n",
        "    # Heatmap for number of rules\n",
        "    pivot_num_rules = results_df.pivot(index='min_support', columns='min_confidence', values='num_rules')\n",
        "    plt.figure(figsize=(10, 6))\n",
        "    sns.heatmap(pivot_num_rules, annot=True, fmt=\".0f\", cmap=\"Blues\")\n",
        "    plt.title('Number of Rules by Min Support and Min Confidence')\n",
        "    plt.xlabel('Minimum Confidence')\n",
        "    plt.ylabel('Minimum Support')\n",
        "    plt.show()\n",
        "\n",
        "    # Heatmap for average lift\n",
        "    pivot_avg_lift = results_df.pivot(index='min_support', columns='min_confidence', values='avg_lift')\n",
        "    plt.figure(figsize=(10, 6))\n",
        "    sns.heatmap(pivot_avg_lift, annot=True, fmt=\".2f\", cmap=\"Greens\")\n",
        "    plt.title('Average Lift by Min Support and Min Confidence')\n",
        "    plt.xlabel('Minimum Confidence')\n",
        "    plt.ylabel('Minimum Support')\n",
        "    plt.show()\n",
        "\n",
        "    return results\n",
        "\n",
        "# TODO 5.1.4: Run sensitivity analysis\n",
        "# Uncomment the line below to run, be aware it can take some time\n",
        "sensitivity_results = parameter_sensitivity_analysis(transactions)"
      ],
      "metadata": {
        "id": "51Vg5H-31vTW",
        "colab": {
          "base_uri": "https://localhost:8080/",
          "height": 1000
        },
        "outputId": "80da83e5-03fa-45e8-db5f-aba50ddc733a"
      },
      "execution_count": 13,
      "outputs": [
        {
          "output_type": "stream",
          "name": "stdout",
          "text": [
            "=== PARAMETER SENSITIVITY ANALYSIS ===\n",
            "\n",
            "Testing minimum support = 0.005\n",
            "Finding frequent 1-itemsets...\n",
            "Found 89 frequent 1-itemsets\n",
            "Finding frequent 2-itemsets...\n",
            "Found 37 frequent 2-itemsets\n",
            "Finding frequent 3-itemsets...\n",
            "  Testing minimum confidence = 0.2\n",
            "    - Found 0 rules with avg confidence 0.00, avg lift 0.00\n",
            "  Testing minimum confidence = 0.3\n",
            "    - Found 0 rules with avg confidence 0.00, avg lift 0.00\n",
            "  Testing minimum confidence = 0.5\n",
            "    - Found 0 rules with avg confidence 0.00, avg lift 0.00\n",
            "  Testing minimum confidence = 0.7\n",
            "    - Found 0 rules with avg confidence 0.00, avg lift 0.00\n",
            "Testing minimum support = 0.01\n",
            "Finding frequent 1-itemsets...\n",
            "Found 64 frequent 1-itemsets\n",
            "Finding frequent 2-itemsets...\n",
            "Found 5 frequent 2-itemsets\n",
            "Finding frequent 3-itemsets...\n",
            "  Testing minimum confidence = 0.2\n",
            "    - Found 0 rules with avg confidence 0.00, avg lift 0.00\n",
            "  Testing minimum confidence = 0.3\n",
            "    - Found 0 rules with avg confidence 0.00, avg lift 0.00\n",
            "  Testing minimum confidence = 0.5\n",
            "    - Found 0 rules with avg confidence 0.00, avg lift 0.00\n",
            "  Testing minimum confidence = 0.7\n",
            "    - Found 0 rules with avg confidence 0.00, avg lift 0.00\n",
            "Testing minimum support = 0.02\n",
            "Finding frequent 1-itemsets...\n",
            "Found 38 frequent 1-itemsets\n",
            "Finding frequent 2-itemsets...\n",
            "  Testing minimum confidence = 0.2\n",
            "    - Found 0 rules with avg confidence 0.00, avg lift 0.00\n",
            "  Testing minimum confidence = 0.3\n",
            "    - Found 0 rules with avg confidence 0.00, avg lift 0.00\n",
            "  Testing minimum confidence = 0.5\n",
            "    - Found 0 rules with avg confidence 0.00, avg lift 0.00\n",
            "  Testing minimum confidence = 0.7\n",
            "    - Found 0 rules with avg confidence 0.00, avg lift 0.00\n",
            "Testing minimum support = 0.03\n",
            "Finding frequent 1-itemsets...\n",
            "Found 27 frequent 1-itemsets\n",
            "Finding frequent 2-itemsets...\n",
            "  Testing minimum confidence = 0.2\n",
            "    - Found 0 rules with avg confidence 0.00, avg lift 0.00\n",
            "  Testing minimum confidence = 0.3\n",
            "    - Found 0 rules with avg confidence 0.00, avg lift 0.00\n",
            "  Testing minimum confidence = 0.5\n",
            "    - Found 0 rules with avg confidence 0.00, avg lift 0.00\n",
            "  Testing minimum confidence = 0.7\n",
            "    - Found 0 rules with avg confidence 0.00, avg lift 0.00\n",
            "Testing minimum support = 0.05\n",
            "Finding frequent 1-itemsets...\n",
            "Found 11 frequent 1-itemsets\n",
            "Finding frequent 2-itemsets...\n",
            "  Testing minimum confidence = 0.2\n",
            "    - Found 0 rules with avg confidence 0.00, avg lift 0.00\n",
            "  Testing minimum confidence = 0.3\n",
            "    - Found 0 rules with avg confidence 0.00, avg lift 0.00\n",
            "  Testing minimum confidence = 0.5\n",
            "    - Found 0 rules with avg confidence 0.00, avg lift 0.00\n",
            "  Testing minimum confidence = 0.7\n",
            "    - Found 0 rules with avg confidence 0.00, avg lift 0.00\n"
          ]
        },
        {
          "output_type": "display_data",
          "data": {
            "text/plain": [
              "<Figure size 1000x600 with 2 Axes>"
            ],
            "image/png": "[encoded data removed]"
          },
          "metadata": {}
        },
        {
          "output_type": "display_data",
          "data": {
            "text/plain": [
              "<Figure size 1000x600 with 2 Axes>"
            ],
            "image/png": "[encoded data removed]"
          },
          "metadata": {}
        }
      ]
    },
    {
      "cell_type": "markdown",
      "source": [
        "## Task 5.2: Algorithm Performance Analysis\n"
      ],
      "metadata": {
        "id": "eNZkBYHK2N5b"
      }
    },
    {
      "cell_type": "code",
      "source": [
        "def performance_analysis(transactions):\n",
        "    \"\"\"\n",
        "    Analyze the performance of the Apriori algorithm\n",
        "\n",
        "    TODO 5.2.1: Implement performance analysis\n",
        "    \"\"\"\n",
        "    print(\"=== ALGORITHM PERFORMANCE ANALYSIS ===\\n\")\n",
        "\n",
        "    # Use a fixed minimum support and confidence for consistency\n",
        "    fixed_min_support = 0.01\n",
        "    fixed_min_confidence = 0.3\n",
        "\n",
        "    dataset_sizes = [1000, 5000, 10000, 20000, len(transactions)]\n",
        "    execution_times = []\n",
        "    num_itemsets_found = []\n",
        "    num_rules_found = []\n",
        "\n",
        "    for size in dataset_sizes:\n",
        "        print(f\"Testing with {size} transactions...\")\n",
        "        # TODO: Sample transactions and measure execution time\n",
        "        if size > len(transactions):\n",
        "            sample_transactions = transactions\n",
        "        else:\n",
        "            sample_transactions = transactions[:size]\n",
        "\n",
        "        start_time = time.time()\n",
        "        current_frequent_itemsets = find_frequent_itemsets(sample_transactions, fixed_min_support)\n",
        "        current_rules = generate_association_rules(current_frequent_itemsets, sample_transactions, fixed_min_confidence)\n",
        "        end_time = time.time()\n",
        "\n",
        "        time_taken = end_time - start_time\n",
        "        execution_times.append(time_taken)\n",
        "        num_itemsets_found.append(sum(len(s) for s in current_frequent_itemsets.values()))\n",
        "        num_rules_found.append(len(current_rules))\n",
        "        print(f\"  Completed in {time_taken:.2f} seconds. Found {num_itemsets_found[-1]} itemsets and {num_rules_found[-1]} rules.\")\n",
        "\n",
        "    # TODO 5.2.3: Visualize performance results\n",
        "    plt.figure(figsize=(10, 6))\n",
        "    plt.plot(dataset_sizes, execution_times, marker='o', linestyle='-', color='blue')\n",
        "    plt.xlabel('Number of Transactions')\n",
        "    plt.ylabel('Execution Time (seconds)')\n",
        "    plt.title('Apriori Algorithm Performance vs. Dataset Size')\n",
        "    plt.grid(True)\n",
        "    plt.show()\n",
        "\n",
        "    # TODO 5.2.4: Analyze time complexity\n",
        "    # Apriori's worst-case time complexity is exponential or polynomial depending on the sparsity of the data\n",
        "    # and min_support. It's often cited as O(M*N*w) where M is transactions, N is items, w is max transaction width,\n",
        "    # or more generally O(2^|I|) in the worst case (where |I| is the number of distinct items).\n",
        "    # From the plot, we can visually estimate if it's linear, quadratic, or exponential for this dataset.\n",
        "    print(\"\\n--- Time Complexity Analysis ---\")\n",
        "    print(\"Based on the plot, the execution time appears to increase significantly with dataset size.\")\n",
        "    print(\"The theoretical worst-case time complexity of Apriori is roughly O(M * N_c * |T|), where M is the number of transactions, N_c is the number of candidate itemsets, and |T| is the transaction length.\")\n",
        "    print(\"The growth looks more than linear, potentially quadratic or worse, which is typical for Apriori as candidate generation and support counting become computationally expensive with increasing data and decreasing support threshold.\")\n",
        "    print(\"How the minimum support threshold affects performance:\")\n",
        "    print(\"- A *lower* minimum support threshold leads to *more* frequent itemsets and *more* candidate itemsets, significantly increasing computation time.\")\n",
        "    print(\"- A *higher* minimum support threshold leads to *fewer* frequent itemsets and *fewer* candidate itemsets, speeding up the algorithm.\")\n",
        "\n",
        "    return dict(zip(dataset_sizes, execution_times))\n",
        "\n",
        "# TODO 5.2.5: Run performance analysis (optional - can be slow)\n",
        "# Uncomment the line below to run, be aware it can take significant time\n",
        "performance_results = performance_analysis(transactions)\n"
      ],
      "metadata": {
        "id": "398Sdk6u2Rai",
        "colab": {
          "base_uri": "https://localhost:8080/",
          "height": 1000
        },
        "outputId": "ef85a842-8d2a-482e-d5d1-2a038f59719c"
      },
      "execution_count": 14,
      "outputs": [
        {
          "output_type": "stream",
          "name": "stdout",
          "text": [
            "=== ALGORITHM PERFORMANCE ANALYSIS ===\n",
            "\n",
            "Testing with 1000 transactions...\n",
            "Finding frequent 1-itemsets...\n",
            "Found 65 frequent 1-itemsets\n",
            "Finding frequent 2-itemsets...\n",
            "Found 12 frequent 2-itemsets\n",
            "Finding frequent 3-itemsets...\n",
            "  Completed in 0.51 seconds. Found 77 itemsets and 0 rules.\n",
            "Testing with 5000 transactions...\n",
            "Finding frequent 1-itemsets...\n",
            "Found 62 frequent 1-itemsets\n",
            "Finding frequent 2-itemsets...\n",
            "Found 4 frequent 2-itemsets\n",
            "Finding frequent 3-itemsets...\n",
            "  Completed in 2.26 seconds. Found 66 itemsets and 0 rules.\n",
            "Testing with 10000 transactions...\n",
            "Finding frequent 1-itemsets...\n",
            "Found 63 frequent 1-itemsets\n",
            "Finding frequent 2-itemsets...\n",
            "Found 6 frequent 2-itemsets\n",
            "Finding frequent 3-itemsets...\n",
            "  Completed in 5.80 seconds. Found 69 itemsets and 0 rules.\n",
            "Testing with 20000 transactions...\n",
            "Finding frequent 1-itemsets...\n",
            "Found 64 frequent 1-itemsets\n",
            "Finding frequent 2-itemsets...\n",
            "Found 5 frequent 2-itemsets\n",
            "Finding frequent 3-itemsets...\n",
            "  Completed in 7.32 seconds. Found 69 itemsets and 0 rules.\n",
            "Testing with 14963 transactions...\n",
            "Finding frequent 1-itemsets...\n",
            "Found 64 frequent 1-itemsets\n",
            "Finding frequent 2-itemsets...\n",
            "Found 5 frequent 2-itemsets\n",
            "Finding frequent 3-itemsets...\n",
            "  Completed in 8.59 seconds. Found 69 itemsets and 0 rules.\n"
          ]
        },
        {
          "output_type": "display_data",
          "data": {
            "text/plain": [
              "<Figure size 1000x600 with 1 Axes>"
            ],
            "image/png": "[encoded data removed]"
          },
          "metadata": {}
        },
        {
          "output_type": "stream",
          "name": "stdout",
          "text": [
            "\n",
            "--- Time Complexity Analysis ---\n",
            "Based on the plot, the execution time appears to increase significantly with dataset size.\n",
            "The theoretical worst-case time complexity of Apriori is roughly O(M * N_c * |T|), where M is the number of transactions, N_c is the number of candidate itemsets, and |T| is the transaction length.\n",
            "The growth looks more than linear, potentially quadratic or worse, which is typical for Apriori as candidate generation and support counting become computationally expensive with increasing data and decreasing support threshold.\n",
            "How the minimum support threshold affects performance:\n",
            "- A *lower* minimum support threshold leads to *more* frequent itemsets and *more* candidate itemsets, significantly increasing computation time.\n",
            "- A *higher* minimum support threshold leads to *fewer* frequent itemsets and *fewer* candidate itemsets, speeding up the algorithm.\n"
          ]
        }
      ]
    },
    {
      "cell_type": "markdown",
      "source": [
        "#Theoretical Questions"
      ],
      "metadata": {
        "id": "emOW9HRGDGb3"
      }
    },
    {
      "cell_type": "markdown",
      "source": [
        "# Q1: Apriori Principle\n",
        "## Explain the Apriori principle in your own words.\n",
        "The Apriori principle states that if an itemset is frequent, then all of its subsets must also be frequent. Conversely, if an itemset is infrequent (does not meet the minimum support threshold), then all of its supersets must also be infrequent.\n",
        "## Why can we prune candidate itemsets based on their subsets?\n",
        "Due to Apriori Principle, the algorithm to avoid counting the support for candidate itemsets that are guaranteed to be infrequent, significantly boosting efficiency. By checking the frequency of smaller subsets first, Apriori intelligently eliminates numerous larger candidates, saving computational resources.\n",
        "## Give an example of how this pruning works\n",
        "Suppose our minimum support is 3 transactions.\n",
        "In the step to find frequent 2-itemsets, we found that:\n",
        "\n",
        "    {A, B} is frequent\n",
        "\n",
        "    {A, C} is frequent\n",
        "\n",
        "    {B, D} is frequent\n",
        "\n",
        "    {C, D} is infrequent (e.g., only appears 1 time)\n",
        "\n",
        "Now, when generating candidate 3-itemsets, if we generate candidate {A, C, D}, we look at its 2-subsets: {A, C}, {A, D}, {C, D}. Since {C, D} was already found to be infrequent, we know immediately that {A, C, D} cannot be frequent (because if {A, C, D} were frequent, {C, D} would also have to be frequent). Thus, we prune {A, C, D} without even counting its occurrences in the transactions, saving computation.\n"
      ],
      "metadata": {
        "id": "V5jJkufoDN9l"
      }
    },
    {
      "cell_type": "markdown",
      "source": [
        "#Q2: Metrics Interpretation\n",
        "## What does support measure? When is it useful?\n",
        "What it measures: Support measures the frequency of an itemset in the entire dataset. It is the proportion of transactions that contain the itemset.\n",
        "\n",
        "When it is useful: Support is useful for identifying commonly occurring itemsets. It filters out rare itemsets that might not be commercially relevant. A high support means the items are bought together often, indicating popularity.\n",
        "## What does confidence measure? When can it be misleading?\n",
        "What it measures: Confidence measures the reliability of an association rule.\n",
        "\n",
        "When it can be misleading: Confidence can be misleading if the consequent (Y) is inherently very popular. For example, if \"whole milk\" is bought by 80% of customers, then a rule like \"diapers -> whole milk\" might have high confidence simply because \"whole milk\" is frequently bought, regardless of whether it's truly associated with \"diapers.\" It doesn't account for the baseline popularity of the consequent.\n",
        "## What does lift measure? What does lift > 1 mean?\n",
        "What it measures: Lift measures how much more likely Y is to be purchased when X is purchased, compared to the baseline likelihood of Y being purchased independently.\n",
        "\n",
        "Lift > 1: Indicates a positive association between X and Y. The presence of X increases the probability of Y being purchased. The higher the lift, the stronger the positive association.\n",
        "## Which metric is most important for business decisions?\n",
        "While all three metrics are valuable, Lift is often considered the most important for identifying truly actionable business insights, especially for cross-selling and product placement."
      ],
      "metadata": {
        "id": "Vs2zdZ_rEyJm"
      }
    },
    {
      "cell_type": "markdown",
      "source": [
        "# Q3: Algorithm Analysis\n",
        "## What is the time complexity of your Apriori implementation?\n",
        "Based on the plot, the execution time appears to increase significantly with dataset size.\n",
        "The theoretical worst-case time complexity of Apriori is roughly O(M * N_c * |T|), where M is the number of transactions, N_c is the number of candidate itemsets, and |T| is the transaction length.\n",
        "The growth looks more than linear, potentially quadratic or worse, which is typical for Apriori as candidate generation and support counting become computationally expensive with increasing data and decreasing support threshold.\n",
        "## What factors make the algorithm slow for large datasets?\n",
        "Candidate Generation: As the number of unique items and frequent itemsets increases, the number of candidate itemsets to be generated combinatorially explodes.\n",
        "\n",
        "Database Scans: The algorithm requires multiple passes (scans) over the entire transaction database. For each iteration (to find frequent k-itemsets), you typically scan the dataset once to count candidate supports. For large datasets, these I/O operations can be very time-consuming.\n",
        "\n",
        "Memory Usage: A large number of frequent itemsets or candidate itemsets can consume significant memory.\n",
        "\n",
        "Density of Data: If transactions are dense (many items in each transaction) or if many items are frequent, the number of frequent itemsets and candidates will be higher, leading to slower performance.\n",
        "## How does the minimum support threshold affect performance?\n",
        "High min_support: A higher minimum support threshold drastically reduces the number of frequent itemsets found. This, in turn, leads to significantly fewer candidate itemsets being generated and tested in subsequent iterations, making the algorithm much faster.\n",
        "\n",
        "Low min_support: A low minimum support threshold will result in a large number of frequent itemsets, especially 1-itemsets. This leads to a combinatorial explosion in the number of candidate itemsets that need to be generated and counted, dramatically increasing both execution time and memory requirements. The algorithm can become intractable if the support is set too low for a large dataset.\n"
      ],
      "metadata": {
        "id": "2gm6tiZbF9lI"
      }
    },
    {
      "cell_type": "markdown",
      "source": [
        "# Q4: Business Applications\n",
        "## Identify 3 actionable business recommendations from your results\n",
        "*   Optimized Product Placement and Bundling (Cross-Selling): By understanding which items are frequently bought together, stores can strategically arrange their shelves or create cross-promotional displays to maximize sales.\n",
        "*   Targeted Marketing and Promotions: This allows for more effective use of marketing budgets by focusing on customer segments most likely to respond to specific offers, increasing conversion rates.\n",
        "*   Improved Inventory Management and Stocking Strategies: Better understanding of co-occurring purchases leads to more efficient supply chain management, reducing waste from overstocking and preventing revenue loss from understocking.\n",
        "\n",
        "## Explain how you would implement a recommendation system using these rules\n",
        "The Apriori algorithm identifies frequent itemsets and association rules using Support, Confidence, and Lift. These rules aid business recommendations like optimized product placement, targeted marketing, and better inventory. They form the basis for recommendation systems, suggesting items based on current or past purchases.\n",
        "\n",
        "## What are the limitations of association rule mining for recommendations?\n",
        "* Sparsity: In datasets with many unique items and relatively few items per transaction, many potential itemsets will have very low support, making it difficult to find strong rules.\n",
        "* Scalability Challenges: For extremely large datasets with a vast number of unique items, the computational cost of generating frequent itemsets can be very high, even with pruning techniques like Apriori.\n",
        "* Lack of Novelty and Diversity: The rules tend to recommend items that are already frequently purchased together. This can lead to obvious recommendations and might not introduce users to new or diverse products they might enjoy.\n",
        "\n"
      ],
      "metadata": {
        "id": "hylm7qCTM07_"
      }
    }
  ]
}