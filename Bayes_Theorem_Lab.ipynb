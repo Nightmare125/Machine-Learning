{
  "cells": [
    {
      "cell_type": "markdown",
      "metadata": {
        "id": "view-in-github",
        "colab_type": "text"
      },
      "source": [
        "<a href=\"https://colab.research.google.com/github/Nightmare125/Machine-Learning/blob/main/Bayes_Theorem_Lab.ipynb\" target=\"_parent\"><img src=\"https://colab.research.google.com/assets/colab-badge.svg\" alt=\"Open In Colab\"/></a>"
      ]
    },
    {
      "cell_type": "code",
      "execution_count": 1,
      "metadata": {
        "id": "-meBB_n0_OdK"
      },
      "outputs": [],
      "source": [
        "import pandas as pd\n",
        "import numpy as np\n",
        "import matplotlib.pyplot as plt\n",
        "import seaborn as sns\n",
        "from sklearn.preprocessing import LabelEncoder\n",
        "from sklearn.model_selection import train_test_split\n",
        "from sklearn.metrics import accuracy_score, precision_score, recall_score, f1_score, confusion_matrix, classification_report"
      ]
    },
    {
      "cell_type": "markdown",
      "metadata": {
        "id": "rJHtYxfdD8QJ"
      },
      "source": [
        "### Load dataset"
      ]
    },
    {
      "cell_type": "code",
      "execution_count": 2,
      "metadata": {
        "colab": {
          "base_uri": "https://localhost:8080/",
          "height": 74
        },
        "id": "jiDf2PrjELb1",
        "outputId": "b3f20594-2e46-4f4e-dcbd-aef5c98249fa"
      },
      "outputs": [
        {
          "output_type": "display_data",
          "data": {
            "text/plain": [
              "<IPython.core.display.HTML object>"
            ],
            "text/html": [
              "\n",
              "     <input type=\"file\" id=\"files-7ec319e9-ee67-4312-b7e5-610c7eccdbd4\" name=\"files[]\" multiple disabled\n",
              "        style=\"border:none\" />\n",
              "     <output id=\"result-7ec319e9-ee67-4312-b7e5-610c7eccdbd4\">\n",
              "      Upload widget is only available when the cell has been executed in the\n",
              "      current browser session. Please rerun this cell to enable.\n",
              "      </output>\n",
              "      <script>// Copyright 2017 Google LLC\n",
              "//\n",
              "// Licensed under the Apache License, Version 2.0 (the \"License\");\n",
              "// you may not use this file except in compliance with the License.\n",
              "// You may obtain a copy of the License at\n",
              "//\n",
              "//      http://www.apache.org/licenses/LICENSE-2.0\n",
              "//\n",
              "// Unless required by applicable law or agreed to in writing, software\n",
              "// distributed under the License is distributed on an \"AS IS\" BASIS,\n",
              "// WITHOUT WARRANTIES OR CONDITIONS OF ANY KIND, either express or implied.\n",
              "// See the License for the specific language governing permissions and\n",
              "// limitations under the License.\n",
              "\n",
              "/**\n",
              " * @fileoverview Helpers for google.colab Python module.\n",
              " */\n",
              "(function(scope) {\n",
              "function span(text, styleAttributes = {}) {\n",
              "  const element = document.createElement('span');\n",
              "  element.textContent = text;\n",
              "  for (const key of Object.keys(styleAttributes)) {\n",
              "    element.style[key] = styleAttributes[key];\n",
              "  }\n",
              "  return element;\n",
              "}\n",
              "\n",
              "// Max number of bytes which will be uploaded at a time.\n",
              "const MAX_PAYLOAD_SIZE = 100 * 1024;\n",
              "\n",
              "function _uploadFiles(inputId, outputId) {\n",
              "  const steps = uploadFilesStep(inputId, outputId);\n",
              "  const outputElement = document.getElementById(outputId);\n",
              "  // Cache steps on the outputElement to make it available for the next call\n",
              "  // to uploadFilesContinue from Python.\n",
              "  outputElement.steps = steps;\n",
              "\n",
              "  return _uploadFilesContinue(outputId);\n",
              "}\n",
              "\n",
              "// This is roughly an async generator (not supported in the browser yet),\n",
              "// where there are multiple asynchronous steps and the Python side is going\n",
              "// to poll for completion of each step.\n",
              "// This uses a Promise to block the python side on completion of each step,\n",
              "// then passes the result of the previous step as the input to the next step.\n",
              "function _uploadFilesContinue(outputId) {\n",
              "  const outputElement = document.getElementById(outputId);\n",
              "  const steps = outputElement.steps;\n",
              "\n",
              "  const next = steps.next(outputElement.lastPromiseValue);\n",
              "  return Promise.resolve(next.value.promise).then((value) => {\n",
              "    // Cache the last promise value to make it available to the next\n",
              "    // step of the generator.\n",
              "    outputElement.lastPromiseValue = value;\n",
              "    return next.value.response;\n",
              "  });\n",
              "}\n",
              "\n",
              "/**\n",
              " * Generator function which is called between each async step of the upload\n",
              " * process.\n",
              " * @param {string} inputId Element ID of the input file picker element.\n",
              " * @param {string} outputId Element ID of the output display.\n",
              " * @return {!Iterable<!Object>} Iterable of next steps.\n",
              " */\n",
              "function* uploadFilesStep(inputId, outputId) {\n",
              "  const inputElement = document.getElementById(inputId);\n",
              "  inputElement.disabled = false;\n",
              "\n",
              "  const outputElement = document.getElementById(outputId);\n",
              "  outputElement.innerHTML = '';\n",
              "\n",
              "  const pickedPromise = new Promise((resolve) => {\n",
              "    inputElement.addEventListener('change', (e) => {\n",
              "      resolve(e.target.files);\n",
              "    });\n",
              "  });\n",
              "\n",
              "  const cancel = document.createElement('button');\n",
              "  inputElement.parentElement.appendChild(cancel);\n",
              "  cancel.textContent = 'Cancel upload';\n",
              "  const cancelPromise = new Promise((resolve) => {\n",
              "    cancel.onclick = () => {\n",
              "      resolve(null);\n",
              "    };\n",
              "  });\n",
              "\n",
              "  // Wait for the user to pick the files.\n",
              "  const files = yield {\n",
              "    promise: Promise.race([pickedPromise, cancelPromise]),\n",
              "    response: {\n",
              "      action: 'starting',\n",
              "    }\n",
              "  };\n",
              "\n",
              "  cancel.remove();\n",
              "\n",
              "  // Disable the input element since further picks are not allowed.\n",
              "  inputElement.disabled = true;\n",
              "\n",
              "  if (!files) {\n",
              "    return {\n",
              "      response: {\n",
              "        action: 'complete',\n",
              "      }\n",
              "    };\n",
              "  }\n",
              "\n",
              "  for (const file of files) {\n",
              "    const li = document.createElement('li');\n",
              "    li.append(span(file.name, {fontWeight: 'bold'}));\n",
              "    li.append(span(\n",
              "        `(${file.type || 'n/a'}) - ${file.size} bytes, ` +\n",
              "        `last modified: ${\n",
              "            file.lastModifiedDate ? file.lastModifiedDate.toLocaleDateString() :\n",
              "                                    'n/a'} - `));\n",
              "    const percent = span('0% done');\n",
              "    li.appendChild(percent);\n",
              "\n",
              "    outputElement.appendChild(li);\n",
              "\n",
              "    const fileDataPromise = new Promise((resolve) => {\n",
              "      const reader = new FileReader();\n",
              "      reader.onload = (e) => {\n",
              "        resolve(e.target.result);\n",
              "      };\n",
              "      reader.readAsArrayBuffer(file);\n",
              "    });\n",
              "    // Wait for the data to be ready.\n",
              "    let fileData = yield {\n",
              "      promise: fileDataPromise,\n",
              "      response: {\n",
              "        action: 'continue',\n",
              "      }\n",
              "    };\n",
              "\n",
              "    // Use a chunked sending to avoid message size limits. See b/62115660.\n",
              "    let position = 0;\n",
              "    do {\n",
              "      const length = Math.min(fileData.byteLength - position, MAX_PAYLOAD_SIZE);\n",
              "      const chunk = new Uint8Array(fileData, position, length);\n",
              "      position += length;\n",
              "\n",
              "      const base64 = btoa(String.fromCharCode.apply(null, chunk));\n",
              "      yield {\n",
              "        response: {\n",
              "          action: 'append',\n",
              "          file: file.name,\n",
              "          data: base64,\n",
              "        },\n",
              "      };\n",
              "\n",
              "      let percentDone = fileData.byteLength === 0 ?\n",
              "          100 :\n",
              "          Math.round((position / fileData.byteLength) * 100);\n",
              "      percent.textContent = `${percentDone}% done`;\n",
              "\n",
              "    } while (position < fileData.byteLength);\n",
              "  }\n",
              "\n",
              "  // All done.\n",
              "  yield {\n",
              "    response: {\n",
              "      action: 'complete',\n",
              "    }\n",
              "  };\n",
              "}\n",
              "\n",
              "scope.google = scope.google || {};\n",
              "scope.google.colab = scope.google.colab || {};\n",
              "scope.google.colab._files = {\n",
              "  _uploadFiles,\n",
              "  _uploadFilesContinue,\n",
              "};\n",
              "})(self);\n",
              "</script> "
            ]
          },
          "metadata": {}
        },
        {
          "output_type": "stream",
          "name": "stdout",
          "text": [
            "Saving global_cancer_patients_2015_2024.csv to global_cancer_patients_2015_2024.csv\n"
          ]
        }
      ],
      "source": [
        "from google.colab import files\n",
        "uploaded = files.upload()"
      ]
    },
    {
      "cell_type": "code",
      "execution_count": 3,
      "metadata": {
        "id": "GfMbUSBkD5Nq"
      },
      "outputs": [],
      "source": [
        "df = pd.read_csv(\"global_cancer_patients_2015_2024.csv\")"
      ]
    },
    {
      "cell_type": "markdown",
      "metadata": {
        "id": "CjswJ7eJEkU7"
      },
      "source": [
        "### Exploration of data"
      ]
    },
    {
      "cell_type": "code",
      "execution_count": 4,
      "metadata": {
        "colab": {
          "base_uri": "https://localhost:8080/"
        },
        "id": "lKY-FvwGEmAk",
        "outputId": "b7cf4a4e-6862-4ac8-dc43-c1c53b7a9593"
      },
      "outputs": [
        {
          "output_type": "stream",
          "name": "stdout",
          "text": [
            "(50000, 15)\n",
            "  Patient_ID  Age  Gender Country_Region  Year  Genetic_Risk  Air_Pollution  \\\n",
            "0  PT0000000   71    Male             UK  2021           6.4            2.8   \n",
            "1  PT0000001   34    Male          China  2021           1.3            4.5   \n",
            "2  PT0000002   80    Male       Pakistan  2023           7.4            7.9   \n",
            "3  PT0000003   40    Male             UK  2015           1.7            2.9   \n",
            "4  PT0000004   43  Female         Brazil  2017           5.1            2.8   \n",
            "\n",
            "   Alcohol_Use  Smoking  Obesity_Level Cancer_Type Cancer_Stage  \\\n",
            "0          9.5      0.9            8.7        Lung    Stage III   \n",
            "1          3.7      3.9            6.3    Leukemia      Stage 0   \n",
            "2          2.4      4.7            0.1      Breast     Stage II   \n",
            "3          4.8      3.5            2.7       Colon      Stage I   \n",
            "4          2.3      6.7            0.5        Skin    Stage III   \n",
            "\n",
            "   Treatment_Cost_USD  Survival_Years  Target_Severity_Score  \n",
            "0            62913.44             5.9                   4.92  \n",
            "1            12573.41             4.7                   4.65  \n",
            "2             6984.33             7.1                   5.84  \n",
            "3            67446.25             1.6                   3.12  \n",
            "4            77977.12             2.9                   3.62  \n"
          ]
        }
      ],
      "source": [
        "print(df.shape)\n",
        "print(df.head())"
      ]
    },
    {
      "cell_type": "markdown",
      "metadata": {
        "id": "uDBIxhEHEshN"
      },
      "source": [
        "# Preprocessing"
      ]
    },
    {
      "cell_type": "markdown",
      "metadata": {
        "id": "RVieaDt5MKu3"
      },
      "source": [
        "### Drop irrelevant columns"
      ]
    },
    {
      "cell_type": "code",
      "execution_count": 5,
      "metadata": {
        "collapsed": true,
        "id": "yUyaEAyFExcP"
      },
      "outputs": [],
      "source": [
        "df_clean = df.drop(columns=['Patient_ID', 'Treatment_Cost_USD'])"
      ]
    },
    {
      "cell_type": "markdown",
      "metadata": {
        "id": "TOtVMawkFHOW"
      },
      "source": [
        "###Drop rows with missing values"
      ]
    },
    {
      "cell_type": "code",
      "execution_count": 6,
      "metadata": {
        "id": "336CAJ7FM0yt"
      },
      "outputs": [],
      "source": [
        "df_clean = df_clean.dropna()"
      ]
    },
    {
      "cell_type": "markdown",
      "metadata": {
        "id": "Tl7O--20ORyY"
      },
      "source": [
        "### Encode categorical variables"
      ]
    },
    {
      "cell_type": "code",
      "execution_count": 8,
      "metadata": {
        "id": "ihAmrs_iOUAY"
      },
      "outputs": [],
      "source": [
        "label_encoders = {}\n",
        "categorical_cols = ['Gender', 'Country_Region', 'Cancer_Type', 'Cancer_Stage']\n",
        "\n",
        "for col in categorical_cols:\n",
        "    le = LabelEncoder()\n",
        "    df_clean[col] = le.fit_transform(df_clean[col])\n",
        "    label_encoders[col] = le"
      ]
    },
    {
      "cell_type": "markdown",
      "metadata": {
        "id": "ELbWIwGVPC9_"
      },
      "source": [
        "###Define features and target"
      ]
    },
    {
      "cell_type": "code",
      "execution_count": 15,
      "metadata": {
        "id": "mOOUeYN5PG_R"
      },
      "outputs": [],
      "source": [
        "X = df_clean.drop(columns=['Cancer_Stage'])\n",
        "y = df_clean['Cancer_Stage']"
      ]
    },
    {
      "cell_type": "markdown",
      "metadata": {
        "id": "aWhwieuTPLmy"
      },
      "source": [
        "### Split into Train/Test"
      ]
    },
    {
      "cell_type": "code",
      "execution_count": 16,
      "metadata": {
        "id": "jSkjC6mdPQHd"
      },
      "outputs": [],
      "source": [
        "X_train, X_test, y_train, y_test = train_test_split(X.values, y.values, test_size=0.2, random_state=42)"
      ]
    },
    {
      "cell_type": "markdown",
      "metadata": {
        "id": "aB8hiiVWFqrN"
      },
      "source": [
        "### Gaussian Naive Bayes Algorithm"
      ]
    },
    {
      "cell_type": "code",
      "execution_count": 17,
      "metadata": {
        "id": "KshrkydSFucg"
      },
      "outputs": [],
      "source": [
        "class GaussianNaiveBayes:\n",
        "    def fit(self, X, y):\n",
        "        self.classes = np.unique(y)\n",
        "        self.mean = {}\n",
        "        self.var = {}\n",
        "        self.priors = {}\n",
        "\n",
        "        for c in self.classes:\n",
        "            X_c = X[y == c]\n",
        "            self.mean[c] = np.mean(X_c, axis=0)\n",
        "            self.var[c] = np.var(X_c, axis=0) + 1e-9  # avoid divide-by-zero\n",
        "            self.priors[c] = X_c.shape[0] / X.shape[0]\n",
        "\n",
        "    def gaussian_prob(self, class_idx, x):\n",
        "        mean = self.mean[class_idx]\n",
        "        var = self.var[class_idx]\n",
        "        numerator = np.exp(- ((x - mean) ** 2) / (2 * var))\n",
        "        denominator = np.sqrt(2 * np.pi * var)\n",
        "        return numerator / denominator\n",
        "\n",
        "    def predict(self, X):\n",
        "        predictions = []\n",
        "        for x in X:\n",
        "            posteriors = []\n",
        "            for c in self.classes:\n",
        "                prior = np.log(self.priors[c])\n",
        "                conditional = np.sum(np.log(self.gaussian_prob(c, x)))\n",
        "                posterior = prior + conditional\n",
        "                posteriors.append(posterior)\n",
        "            predictions.append(self.classes[np.argmax(posteriors)])\n",
        "        return np.array(predictions)"
      ]
    },
    {
      "cell_type": "markdown",
      "metadata": {
        "id": "FuMHsLEqF2de"
      },
      "source": [
        "### Train and Predict"
      ]
    },
    {
      "cell_type": "code",
      "execution_count": 18,
      "metadata": {
        "id": "wwbceROCF-1v"
      },
      "outputs": [],
      "source": [
        "nb = GaussianNaiveBayes()\n",
        "nb.fit(X_train, y_train)\n",
        "y_pred = nb.predict(X_test)"
      ]
    },
    {
      "cell_type": "markdown",
      "metadata": {
        "id": "amIug-rZGRXx"
      },
      "source": [
        "### Evaluate"
      ]
    },
    {
      "cell_type": "code",
      "execution_count": 19,
      "metadata": {
        "id": "vcBQrvmcGZmb",
        "colab": {
          "base_uri": "https://localhost:8080/"
        },
        "outputId": "03b3a961-5973-4f25-d8f7-e15f2fb68961"
      },
      "outputs": [
        {
          "output_type": "stream",
          "name": "stdout",
          "text": [
            "Accuracy: 0.2003\n",
            "Precision: 0.20172771384201704\n",
            "Recall: 0.2003\n",
            "F1 Score: 0.1985614490221099\n",
            "\n",
            "Classification Report:\n",
            "               precision    recall  f1-score   support\n",
            "\n",
            "           0       0.20      0.16      0.18      1957\n",
            "           1       0.22      0.17      0.19      2108\n",
            "           2       0.19      0.27      0.23      1998\n",
            "           3       0.19      0.22      0.21      1986\n",
            "           4       0.20      0.18      0.19      1951\n",
            "\n",
            "    accuracy                           0.20     10000\n",
            "   macro avg       0.20      0.20      0.20     10000\n",
            "weighted avg       0.20      0.20      0.20     10000\n",
            "\n"
          ]
        }
      ],
      "source": [
        "print(\"Accuracy:\", accuracy_score(y_test, y_pred))\n",
        "print(\"Precision:\", precision_score(y_test, y_pred, average='weighted'))\n",
        "print(\"Recall:\", recall_score(y_test, y_pred, average='weighted'))\n",
        "print(\"F1 Score:\", f1_score(y_test, y_pred, average='weighted'))\n",
        "print(\"\\nClassification Report:\\n\", classification_report(y_test, y_pred))"
      ]
    },
    {
      "cell_type": "markdown",
      "metadata": {
        "id": "2YIravxdGnNX"
      },
      "source": [
        "### Confusion Matrix"
      ]
    },
    {
      "cell_type": "code",
      "execution_count": 14,
      "metadata": {
        "id": "Zb30P4aDGsic",
        "colab": {
          "base_uri": "https://localhost:8080/",
          "height": 641
        },
        "outputId": "c956fe1a-5091-42ab-8777-4b4620e51815"
      },
      "outputs": [
        {
          "output_type": "display_data",
          "data": {
            "text/plain": [
              "<Figure size 1000x700 with 2 Axes>"
            ],
            "image/png": "[encoded data removed]"
          },
          "metadata": {}
        }
      ],
      "source": [
        "cm = confusion_matrix(y_test, y_pred)\n",
        "plt.figure(figsize=(10, 7))\n",
        "sns.heatmap(cm, annot=True, fmt='d', cmap='Blues')\n",
        "plt.title('Confusion Matrix')\n",
        "plt.xlabel('Predicted')\n",
        "plt.ylabel('Actual')\n",
        "plt.show()\n"
      ]
    },
    {
      "cell_type": "markdown",
      "source": [
        "MATHEMATICAL FORMULAR\n",
        "Bayes’ Theorem allows us to update the probability estimate for an event based on new evidence (Murphy, 2012). It is written as:                  \n",
        "     P(A|B) = (P(B|A) * P(A))/(P(B))\n",
        "\n",
        "Where:\n",
        "\n",
        "•\tP(A∣B): Posterior probability — the probability of event A given B is true.\n",
        "\n",
        "•\tP(B∣A): Likelihood — the probability of observing B given that A is true.\n",
        "\n",
        "•\tP(A): Prior probability of event A (before seeing B).\n",
        "\n",
        "•\tP(B): Marginal probability of event B (total probability of B across all outcomes).\n",
        "\n",
        "INTUITION BEHIND CONDITIONAL PROBABILITY\n",
        "\n",
        "Think of conditional probability as updating your belief after observing evidence.\n",
        "\n",
        "Example: You want to know the probability that it rained today (A), given that the grass is wet (B).\n",
        "\n",
        "•\tPrior: You think rain is rare in your area, P(A) = 0.1\n",
        "\n",
        "•\tBut: If it did rain, the grass is likely to be wet, P(B∣A) = 0.9\n",
        "\n",
        "•\tAlso: Sometimes sprinklers make the grass wet too, so P(B) is higher than just from rain.\n",
        "\n",
        "Bayes’ Theorem gives you a revised estimate of how likely it rained, given the observed evidence (wet grass).\n",
        "\n",
        " REAL-WORLD EXAMPLES\n",
        "\n",
        "Medical Diagnosis (Mitchell, 1997):\n",
        "\n",
        "•\tLet A = patient has cancer, B = test result is positive.\n",
        "\n",
        "•\tP(A): cancer prevalence, say 1%.\n",
        "\n",
        "•\tP(B∣A): probability test is positive if they have cancer (sensitivity).\n",
        "\n",
        "•\tP(B): total chance of a positive test result.\n",
        "\n",
        "•\tBayes’ Theorem tells you P(A∣B): the chance a person has cancer given a positive result.\n",
        "\n",
        "Spam Filtering (Jordan, 2002):\n",
        "\n",
        "•\tA = message is spam, B = it contains the word “free”.\n",
        "\n",
        "•\tUse Bayes’ Theorem to compute P(spam∣“free”), helping decide if a message is spam.\n",
        "\n",
        "BAYES’ THEOREM IN NAIVE BAYES ALGORITHM\n",
        "\n",
        "In classification problems, we want:\n",
        "\n",
        "     P(class∣features) ∝ P(class) ∏P(xi∣class)\n",
        "\n",
        "Bayes’ Theorem allows us to flip the direction:\n",
        "\n",
        "•\tInstead of directly computing P(class∣features)P(class∣features), we compute:\n",
        "\n",
        "o\tP(features∣class): Likelihood\n",
        "\n",
        "o\tP(class): Prior\n",
        "\n",
        "•\tIgnore P(features)P(features) during classification because it is constant across all classes.\n",
        "\n",
        "The classifier predicts the class with the highest posterior probability (Zhang, 2004).\n",
        "\n",
        "THE “NAIVE” ASSUMPTION\n",
        "\n",
        "Naive Bayes makes a strong assumption (Domingos, 1997):\n",
        "\n",
        "•\tAll features are conditionally independent given the class.\n",
        "\n",
        "This means:\n",
        "\n",
        "  P(x1,x2,...,xn∣class) = P(x1∣class) * P(x2∣class) * ... * P(xn∣class)\n",
        "\n",
        "Why is it naive:\n",
        "\n",
        "•\tIn real data, features are often correlated.\n",
        "\n",
        "•\tFor example, in medical data: Age and Genetic_Risk might be related.\n",
        "\n",
        "Why does it still work (Raschka, 2015):\n",
        "\n",
        "•\tDespite this unrealistic assumption, Naive Bayes often performs surprisingly well in practice, especially when:\n",
        "\n",
        "o\tFeatures are weakly correlated.\n",
        "\n",
        "o\tYou need fast and interpretable models.\n",
        "\n",
        "o\tYou have limited training data.\n",
        "\n",
        "References\n",
        "\n",
        "Domingos. (1997). On the optimality of the simple Bayesian classifier under zero-one loss.\n",
        "\n",
        "Jordan, M. I. (2002). On Discriminative vs. Generative Classifiers: A comparison of logistic regression and naive Bayes.\n",
        "\n",
        "Mitchell. (1997). Machine Learning. McGraw-Hill.\n",
        "\n",
        "Murphy. (2012). Machine Learning: A Probabilistic Perspective. MIT Press.\n",
        "\n",
        "Raschka. (2015). Python Machine Learning. Packt Publishing.\n",
        "\n",
        "Zhang. (2004). The Optimality of Naive Bayes. AAAI Conference on Artificial Intelligence.\n",
        "\n",
        "\n"
      ],
      "metadata": {
        "id": "Sto3CKGy010l"
      }
    }
  ],
  "metadata": {
    "colab": {
      "provenance": [],
      "authorship_tag": "ABX9TyN4/bRE3nfXDQHguJaCJ7Xb",
      "include_colab_link": true
    },
    "kernelspec": {
      "display_name": "Python 3",
      "name": "python3"
    },
    "language_info": {
      "name": "python"
    }
  },
  "nbformat": 4,
  "nbformat_minor": 0
}