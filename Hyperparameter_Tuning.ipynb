{
  "cells": [
    {
      "cell_type": "markdown",
      "metadata": {
        "id": "view-in-github",
        "colab_type": "text"
      },
      "source": [
        "<a href=\"https://colab.research.google.com/github/Nightmare125/Machine-Learning/blob/main/Hyperparameter_Tuning.ipynb\" target=\"_parent\"><img src=\"https://colab.research.google.com/assets/colab-badge.svg\" alt=\"Open In Colab\"/></a>"
      ]
    },
    {
      "cell_type": "code",
      "execution_count": 1,
      "metadata": {
        "id": "TEfdR6oilJWF"
      },
      "outputs": [],
      "source": [
        "import random\n",
        "import numpy as np\n",
        "import matplotlib.pyplot as plt\n",
        "from tensorflow.keras import Input\n",
        "from tensorflow.keras.datasets import cifar10\n",
        "from tensorflow.keras.models import Sequential\n",
        "from tensorflow.keras.layers import Conv2D, MaxPooling2D, Flatten, Dense, Dropout\n",
        "from tensorflow.keras.optimizers import Adam, RMSprop\n",
        "from tensorflow.keras.utils import to_categorical\n",
        "from sklearn.metrics import classification_report, confusion_matrix"
      ]
    },
    {
      "cell_type": "markdown",
      "metadata": {
        "id": "oYJva5ysmTrQ"
      },
      "source": [
        "Load and preprocess CIFAR-10 data\n",
        "\n",
        "Normalize pixel values and one-hot encode labels"
      ]
    },
    {
      "cell_type": "code",
      "execution_count": 2,
      "metadata": {
        "id": "ntDwLmjsmZ8g"
      },
      "outputs": [],
      "source": [
        "def load_data():\n",
        "    (x_train, y_train), (x_test, y_test) = cifar10.load_data()\n",
        "    x_train = x_train.astype('float32') / 255.0\n",
        "    x_test = x_test.astype('float32') / 255.0\n",
        "    y_train = to_categorical(y_train, 10)\n",
        "    y_test = to_categorical(y_test, 10)\n",
        "    return x_train, y_train, x_test, y_test"
      ]
    },
    {
      "cell_type": "markdown",
      "metadata": {
        "id": "V3-h9cfNmjAS"
      },
      "source": [
        "Build CNN model based on given hyperparameters dictionary\n",
        "\n",
        "Adds layers based on the number of convolutional layers specified\n",
        "\n",
        "Compiles the model with Adam optimizer and categorical crossentropy"
      ]
    },
    {
      "cell_type": "code",
      "execution_count": 3,
      "metadata": {
        "id": "h3OPMFY1mk5O"
      },
      "outputs": [],
      "source": [
        "def build_model(hp):\n",
        "    model = Sequential()\n",
        "    input_shape = (32, 32, 3)\n",
        "    model.add(Conv2D(hp['filters'][0], (hp['kernel_size'], hp['kernel_size']),\n",
        "                     activation=hp['activation'], padding='same', input_shape=input_shape))\n",
        "    model.add(MaxPooling2D(pool_size=(2, 2)))\n",
        "\n",
        "    if hp['num_conv_layers'] > 1:\n",
        "        model.add(Conv2D(hp['filters'][1], (hp['kernel_size'], hp['kernel_size']),\n",
        "                         activation=hp['activation'], padding='same'))\n",
        "        model.add(MaxPooling2D(pool_size=(2, 2)))\n",
        "\n",
        "    if hp['num_conv_layers'] > 2:\n",
        "        model.add(Conv2D(hp['filters'][2], (hp['kernel_size'], hp['kernel_size']),\n",
        "                         activation=hp['activation'], padding='same'))\n",
        "        model.add(MaxPooling2D(pool_size=(2, 2)))\n",
        "\n",
        "    model.add(Flatten())\n",
        "    model.add(Dropout(hp['dropout_rate']))\n",
        "    model.add(Dense(128, activation=hp['activation']))\n",
        "    model.add(Dense(10, activation='softmax'))\n",
        "\n",
        "    opt = Adam(learning_rate=hp['learning_rate'])\n",
        "    model.compile(optimizer=opt, loss='categorical_crossentropy', metrics=['accuracy'])\n",
        "\n",
        "    return model"
      ]
    },
    {
      "cell_type": "markdown",
      "metadata": {
        "id": "FBm5VNSfmoww"
      },
      "source": [
        "Generate a random individual\n",
        "\n",
        "Each value is randomly selected from a predefined range"
      ]
    },
    {
      "cell_type": "code",
      "execution_count": 4,
      "metadata": {
        "id": "biu0hRFFmsJJ"
      },
      "outputs": [],
      "source": [
        "def generate_individual():\n",
        "    return {\n",
        "        'num_conv_layers': random.choice([1, 2, 3]),\n",
        "        'filters': [random.choice([16, 32, 64]) for _ in range(3)],\n",
        "        'kernel_size': random.choice([3, 5]),\n",
        "        'activation': random.choice(['relu', 'tanh']),\n",
        "        'learning_rate': random.choice([1e-2, 1e-3, 1e-4]),\n",
        "        'dropout_rate': random.uniform(0.2, 0.5)\n",
        "    }"
      ]
    },
    {
      "cell_type": "markdown",
      "metadata": {
        "id": "SdMzP27umxBg"
      },
      "source": [
        "Evaluate a model's accuracy given a set of hyperparameters\n",
        "\n",
        "Train briefly and return validation accuracy"
      ]
    },
    {
      "cell_type": "code",
      "execution_count": 5,
      "metadata": {
        "id": "ptY0E-spmzOf"
      },
      "outputs": [],
      "source": [
        "def evaluate_individual(individual, x_train, y_train, x_val, y_val):\n",
        "    model = build_model(individual)\n",
        "    model.fit(x_train, y_train, epochs=3, batch_size=64, verbose=0, validation_data=(x_val, y_val))\n",
        "    _, accuracy = model.evaluate(x_val, y_val, verbose=0)\n",
        "    return accuracy"
      ]
    },
    {
      "cell_type": "markdown",
      "metadata": {
        "id": "94-xlwImm2Me"
      },
      "source": [
        "Tournament selection of 2 parents from the population based on fitness scores"
      ]
    },
    {
      "cell_type": "code",
      "execution_count": 6,
      "metadata": {
        "id": "rjAmtQkgm6k0"
      },
      "outputs": [],
      "source": [
        "def select_parents(population, fitnesses, k=3):\n",
        "    parents = []\n",
        "    for _ in range(2):\n",
        "        selected = random.sample(list(zip(population, fitnesses)), k)\n",
        "        parents.append(max(selected, key=lambda x: x[1])[0])\n",
        "    return parents"
      ]
    },
    {
      "cell_type": "markdown",
      "metadata": {
        "id": "kEmB5LdCm9pn"
      },
      "source": [
        "Crossover operation combines hyperparameters from both parents"
      ]
    },
    {
      "cell_type": "code",
      "execution_count": 7,
      "metadata": {
        "id": "HAvOTaewnBlW"
      },
      "outputs": [],
      "source": [
        "def crossover(parent1, parent2):\n",
        "    child = {}\n",
        "    for key in parent1:\n",
        "        child[key] = random.choice([parent1[key], parent2[key]])\n",
        "    return child\n"
      ]
    },
    {
      "cell_type": "markdown",
      "metadata": {
        "id": "0y-X2FbXnGcC"
      },
      "source": [
        "Mutate an individual by randomly altering some hyperparameters"
      ]
    },
    {
      "cell_type": "code",
      "execution_count": 8,
      "metadata": {
        "id": "UIPl28mznH-u"
      },
      "outputs": [],
      "source": [
        "def mutate(individual, mutation_rate=0.1):\n",
        "    if random.random() < mutation_rate:\n",
        "        individual['learning_rate'] = random.choice([1e-2, 1e-3, 1e-4])\n",
        "    if random.random() < mutation_rate:\n",
        "        individual['activation'] = random.choice(['relu', 'tanh'])\n",
        "    return individual"
      ]
    },
    {
      "cell_type": "markdown",
      "metadata": {
        "id": "mxwl_I6NnK8C"
      },
      "source": [
        "Create a new generation through selection, crossover, and mutation"
      ]
    },
    {
      "cell_type": "code",
      "execution_count": 9,
      "metadata": {
        "id": "dfgKte1onPud"
      },
      "outputs": [],
      "source": [
        "def evolve_population(population, fitnesses):\n",
        "    new_population = []\n",
        "    for _ in range(len(population)):\n",
        "        parent1, parent2 = select_parents(population, fitnesses)\n",
        "        child = crossover(parent1, parent2)\n",
        "        child = mutate(child)\n",
        "        new_population.append(child)\n",
        "    return new_population"
      ]
    },
    {
      "cell_type": "markdown",
      "metadata": {
        "id": "yaIDznbWnSvr"
      },
      "source": [
        "Main loop for running the genetic algorithm\n",
        "\n",
        "Evolves the population and tracks the best models over generations"
      ]
    },
    {
      "cell_type": "code",
      "execution_count": 10,
      "metadata": {
        "id": "qhAf4n7GnZf7"
      },
      "outputs": [],
      "source": [
        "def genetic_algorithm():\n",
        "    x_train, y_train, x_test, y_test = load_data()\n",
        "    x_val, y_val = x_train[-5000:], y_train[-5000:]\n",
        "    x_train, y_train = x_train[:-5000], y_train[:-5000]\n",
        "\n",
        "    generations = 10\n",
        "    population_size = 10\n",
        "    population = [generate_individual() for _ in range(population_size)]\n",
        "    best_accuracies = []\n",
        "    best_models = []\n",
        "\n",
        "    for gen in range(generations):\n",
        "        print(f\"Generation {gen+1}\")\n",
        "        fitnesses = [evaluate_individual(ind, x_train, y_train, x_val, y_val) for ind in population]\n",
        "        best_idx = np.argmax(fitnesses)\n",
        "        best_accuracies.append(fitnesses[best_idx])\n",
        "        best_models.append(population[best_idx])\n",
        "        print(f\"Best Accuracy: {fitnesses[best_idx]:.4f}\")\n",
        "        population = evolve_population(population, fitnesses)\n",
        "\n",
        "    return best_models, best_accuracies, x_train, y_train, x_test, y_test\n"
      ]
    },
    {
      "cell_type": "markdown",
      "metadata": {
        "id": "xdobsZHRndn6"
      },
      "source": [
        " Run the genetic algorithm and train the best model"
      ]
    },
    {
      "cell_type": "code",
      "execution_count": 11,
      "metadata": {
        "colab": {
          "base_uri": "https://localhost:8080/",
          "height": 1000
        },
        "id": "iXqqIL_MndRc",
        "outputId": "d98c2aa7-e932-46e7-b1c8-f7b143873018"
      },
      "outputs": [
        {
          "output_type": "stream",
          "name": "stdout",
          "text": [
            "Downloading data from https://www.cs.toronto.edu/~kriz/cifar-10-python.tar.gz\n",
            "\u001b[1m170498071/170498071\u001b[0m \u001b[32m━━━━━━━━━━━━━━━━━━━━\u001b[0m\u001b[37m\u001b[0m \u001b[1m4s\u001b[0m 0us/step\n",
            "Generation 1\n"
          ]
        },
        {
          "output_type": "stream",
          "name": "stderr",
          "text": [
            "/usr/local/lib/python3.11/dist-packages/keras/src/layers/convolutional/base_conv.py:107: UserWarning: Do not pass an `input_shape`/`input_dim` argument to a layer. When using Sequential models, prefer using an `Input(shape)` object as the first layer in the model instead.\n",
            "  super().__init__(activity_regularizer=activity_regularizer, **kwargs)\n"
          ]
        },
        {
          "output_type": "stream",
          "name": "stdout",
          "text": [
            "Best Accuracy: 0.6680\n",
            "Generation 2\n",
            "Best Accuracy: 0.6762\n",
            "Generation 3\n",
            "Best Accuracy: 0.6814\n",
            "Generation 4\n",
            "Best Accuracy: 0.6948\n",
            "Generation 5\n",
            "Best Accuracy: 0.6942\n",
            "Generation 6\n",
            "Best Accuracy: 0.6914\n",
            "Generation 7\n",
            "Best Accuracy: 0.6882\n",
            "Generation 8\n",
            "Best Accuracy: 0.6868\n",
            "Generation 9\n",
            "Best Accuracy: 0.6910\n",
            "Generation 10\n",
            "Best Accuracy: 0.6862\n",
            "Epoch 1/5\n",
            "\u001b[1m633/633\u001b[0m \u001b[32m━━━━━━━━━━━━━━━━━━━━\u001b[0m\u001b[37m\u001b[0m \u001b[1m71s\u001b[0m 109ms/step - accuracy: 0.3997 - loss: 1.6639 - val_accuracy: 0.5673 - val_loss: 1.2246\n",
            "Epoch 2/5\n",
            "\u001b[1m633/633\u001b[0m \u001b[32m━━━━━━━━━━━━━━━━━━━━\u001b[0m\u001b[37m\u001b[0m \u001b[1m69s\u001b[0m 109ms/step - accuracy: 0.5991 - loss: 1.1396 - val_accuracy: 0.6173 - val_loss: 1.0843\n",
            "Epoch 3/5\n",
            "\u001b[1m633/633\u001b[0m \u001b[32m━━━━━━━━━━━━━━━━━━━━\u001b[0m\u001b[37m\u001b[0m \u001b[1m81s\u001b[0m 109ms/step - accuracy: 0.6464 - loss: 1.0090 - val_accuracy: 0.6502 - val_loss: 0.9956\n",
            "Epoch 4/5\n",
            "\u001b[1m633/633\u001b[0m \u001b[32m━━━━━━━━━━━━━━━━━━━━\u001b[0m\u001b[37m\u001b[0m \u001b[1m83s\u001b[0m 110ms/step - accuracy: 0.6754 - loss: 0.9198 - val_accuracy: 0.6676 - val_loss: 0.9710\n",
            "Epoch 5/5\n",
            "\u001b[1m633/633\u001b[0m \u001b[32m━━━━━━━━━━━━━━━━━━━━\u001b[0m\u001b[37m\u001b[0m \u001b[1m69s\u001b[0m 110ms/step - accuracy: 0.7040 - loss: 0.8449 - val_accuracy: 0.6887 - val_loss: 0.9181\n",
            "\u001b[1m313/313\u001b[0m \u001b[32m━━━━━━━━━━━━━━━━━━━━\u001b[0m\u001b[37m\u001b[0m \u001b[1m6s\u001b[0m 18ms/step\n",
            "              precision    recall  f1-score   support\n",
            "\n",
            "           0       0.70      0.74      0.72      1000\n",
            "           1       0.87      0.71      0.78      1000\n",
            "           2       0.62      0.53      0.58      1000\n",
            "           3       0.59      0.41      0.48      1000\n",
            "           4       0.63      0.67      0.65      1000\n",
            "           5       0.52      0.74      0.61      1000\n",
            "           6       0.74      0.82      0.78      1000\n",
            "           7       0.83      0.69      0.76      1000\n",
            "           8       0.74      0.86      0.79      1000\n",
            "           9       0.77      0.76      0.77      1000\n",
            "\n",
            "    accuracy                           0.69     10000\n",
            "   macro avg       0.70      0.69      0.69     10000\n",
            "weighted avg       0.70      0.69      0.69     10000\n",
            "\n",
            "[[739   9  37  16  26  11  14   6 116  26]\n",
            " [ 32 711   6  13  12   8  16  11  62 129]\n",
            " [ 90   2 534  34  96 116  75  28  14  11]\n",
            " [ 22   4  84 406  78 286  71  18  18  13]\n",
            " [ 24   3  67  36 672  63  70  40  21   4]\n",
            " [ 17   1  47  88  45 740  24  24   9   5]\n",
            " [  8   2  36  40  29  51 822   1   9   2]\n",
            " [ 20   1  32  27  81 114   8 695   6  16]\n",
            " [ 52  21   9  10   9  12   8   4 857  18]\n",
            " [ 58  60   5  21  11  11   9  10  52 763]]\n"
          ]
        },
        {
          "output_type": "display_data",
          "data": {
            "text/plain": [
              "<Figure size 640x480 with 1 Axes>"
            ],
            "image/png": "[encoded data removed]"
          },
          "metadata": {}
        }
      ],
      "source": [
        "if __name__ == '__main__':\n",
        "    best_models, best_accuracies, x_train, y_train, x_test, y_test = genetic_algorithm()\n",
        "\n",
        "    # Build and train model with the best hyperparameters from all generations\n",
        "    best_model_hp = best_models[np.argmax(best_accuracies)]\n",
        "    final_model = build_model(best_model_hp)\n",
        "    final_model.fit(x_train, y_train, epochs=5, batch_size=64, validation_split=0.1, verbose=1)\n",
        "\n",
        "    # Predict and evaluate model on test set\n",
        "    y_pred = final_model.predict(x_test)\n",
        "    y_pred_classes = np.argmax(y_pred, axis=1)\n",
        "    y_true = np.argmax(y_test, axis=1)\n",
        "\n",
        "    # Print classification metrics and confusion matrix\n",
        "    print(classification_report(y_true, y_pred_classes))\n",
        "    print(confusion_matrix(y_true, y_pred_classes))\n",
        "\n",
        "    # Plot the evolution of best validation accuracy over generations\n",
        "    plt.plot(best_accuracies)\n",
        "    plt.xlabel('Generation')\n",
        "    plt.ylabel('Validation Accuracy')\n",
        "    plt.title('Fitness Evolution Over Generations')\n",
        "    plt.grid(True)\n",
        "    plt.show()\n"
      ]
    },
    {
      "cell_type": "markdown",
      "source": [
        "###**Short Report**\n",
        "\n",
        "In this project, a genetic algorithm was used to optimize hyperparameters for a CNN on the CIFAR-10 dataset. The CNN architecture included up to three convolutional layers, with hyperparameters such as filter sizes, kernel size, activation function, learning rate, and dropout rate being evolved over 10 generations with a population of 10 individuals. Using tournament selection, crossover, and mutation, the algorithm identified high-performing models based on validation accuracy. The best model was then trained and evaluated on the test set, achieving strong performance and demonstrating that genetic algorithms are an effective approach for hyperparameter tuning in deep learning."
      ],
      "metadata": {
        "id": "ma1N6avwMyWC"
      }
    }
  ],
  "metadata": {
    "colab": {
      "provenance": [],
      "authorship_tag": "ABX9TyO1pqdeSCmsO6ZP2/0LRB3B",
      "include_colab_link": true
    },
    "kernelspec": {
      "display_name": "Python 3",
      "name": "python3"
    },
    "language_info": {
      "name": "python"
    }
  },
  "nbformat": 4,
  "nbformat_minor": 0
}