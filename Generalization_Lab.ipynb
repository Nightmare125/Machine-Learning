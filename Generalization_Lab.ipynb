{
  "nbformat": 4,
  "nbformat_minor": 0,
  "metadata": {
    "colab": {
      "provenance": [],
      "authorship_tag": "ABX9TyMDb/MQKPdXQAky74+3dKyb",
      "include_colab_link": true
    },
    "kernelspec": {
      "name": "python3",
      "display_name": "Python 3"
    },
    "language_info": {
      "name": "python"
    }
  },
  "cells": [
    {
      "cell_type": "markdown",
      "metadata": {
        "id": "view-in-github",
        "colab_type": "text"
      },
      "source": [
        "<a href=\"https://colab.research.google.com/github/Nightmare125/Machine-Learning/blob/main/Generalization_Lab.ipynb\" target=\"_parent\"><img src=\"https://colab.research.google.com/assets/colab-badge.svg\" alt=\"Open In Colab\"/></a>"
      ]
    },
    {
      "cell_type": "markdown",
      "source": [
        "# Part 1: Data Preparation"
      ],
      "metadata": {
        "id": "yXMpVtD5_qEl"
      }
    },
    {
      "cell_type": "code",
      "source": [
        "import numpy as np\n",
        "import pandas as pd\n",
        "import matplotlib.pyplot as plt\n"
      ],
      "metadata": {
        "id": "BU6vnAxj1f6n"
      },
      "execution_count": null,
      "outputs": []
    },
    {
      "cell_type": "markdown",
      "source": [
        "Load the dataset using Pandas"
      ],
      "metadata": {
        "id": "SxnirA581rsG"
      }
    },
    {
      "cell_type": "code",
      "source": [
        "from google.colab import files\n",
        "uploaded = files.upload()"
      ],
      "metadata": {
        "colab": {
          "base_uri": "https://localhost:8080/",
          "height": 74
        },
        "collapsed": true,
        "id": "C5TkBJ7i1xJv",
        "outputId": "5583e164-b21a-465a-f11d-c5d2815dcf97"
      },
      "execution_count": null,
      "outputs": [
        {
          "output_type": "display_data",
          "data": {
            "text/plain": [
              "<IPython.core.display.HTML object>"
            ],
            "text/html": [
              "\n",
              "     <input type=\"file\" id=\"files-d5480cee-916a-4a77-abe0-139c73ded3f8\" name=\"files[]\" multiple disabled\n",
              "        style=\"border:none\" />\n",
              "     <output id=\"result-d5480cee-916a-4a77-abe0-139c73ded3f8\">\n",
              "      Upload widget is only available when the cell has been executed in the\n",
              "      current browser session. Please rerun this cell to enable.\n",
              "      </output>\n",
              "      <script>// Copyright 2017 Google LLC\n",
              "//\n",
              "// Licensed under the Apache License, Version 2.0 (the \"License\");\n",
              "// you may not use this file except in compliance with the License.\n",
              "// You may obtain a copy of the License at\n",
              "//\n",
              "//      http://www.apache.org/licenses/LICENSE-2.0\n",
              "//\n",
              "// Unless required by applicable law or agreed to in writing, software\n",
              "// distributed under the License is distributed on an \"AS IS\" BASIS,\n",
              "// WITHOUT WARRANTIES OR CONDITIONS OF ANY KIND, either express or implied.\n",
              "// See the License for the specific language governing permissions and\n",
              "// limitations under the License.\n",
              "\n",
              "/**\n",
              " * @fileoverview Helpers for google.colab Python module.\n",
              " */\n",
              "(function(scope) {\n",
              "function span(text, styleAttributes = {}) {\n",
              "  const element = document.createElement('span');\n",
              "  element.textContent = text;\n",
              "  for (const key of Object.keys(styleAttributes)) {\n",
              "    element.style[key] = styleAttributes[key];\n",
              "  }\n",
              "  return element;\n",
              "}\n",
              "\n",
              "// Max number of bytes which will be uploaded at a time.\n",
              "const MAX_PAYLOAD_SIZE = 100 * 1024;\n",
              "\n",
              "function _uploadFiles(inputId, outputId) {\n",
              "  const steps = uploadFilesStep(inputId, outputId);\n",
              "  const outputElement = document.getElementById(outputId);\n",
              "  // Cache steps on the outputElement to make it available for the next call\n",
              "  // to uploadFilesContinue from Python.\n",
              "  outputElement.steps = steps;\n",
              "\n",
              "  return _uploadFilesContinue(outputId);\n",
              "}\n",
              "\n",
              "// This is roughly an async generator (not supported in the browser yet),\n",
              "// where there are multiple asynchronous steps and the Python side is going\n",
              "// to poll for completion of each step.\n",
              "// This uses a Promise to block the python side on completion of each step,\n",
              "// then passes the result of the previous step as the input to the next step.\n",
              "function _uploadFilesContinue(outputId) {\n",
              "  const outputElement = document.getElementById(outputId);\n",
              "  const steps = outputElement.steps;\n",
              "\n",
              "  const next = steps.next(outputElement.lastPromiseValue);\n",
              "  return Promise.resolve(next.value.promise).then((value) => {\n",
              "    // Cache the last promise value to make it available to the next\n",
              "    // step of the generator.\n",
              "    outputElement.lastPromiseValue = value;\n",
              "    return next.value.response;\n",
              "  });\n",
              "}\n",
              "\n",
              "/**\n",
              " * Generator function which is called between each async step of the upload\n",
              " * process.\n",
              " * @param {string} inputId Element ID of the input file picker element.\n",
              " * @param {string} outputId Element ID of the output display.\n",
              " * @return {!Iterable<!Object>} Iterable of next steps.\n",
              " */\n",
              "function* uploadFilesStep(inputId, outputId) {\n",
              "  const inputElement = document.getElementById(inputId);\n",
              "  inputElement.disabled = false;\n",
              "\n",
              "  const outputElement = document.getElementById(outputId);\n",
              "  outputElement.innerHTML = '';\n",
              "\n",
              "  const pickedPromise = new Promise((resolve) => {\n",
              "    inputElement.addEventListener('change', (e) => {\n",
              "      resolve(e.target.files);\n",
              "    });\n",
              "  });\n",
              "\n",
              "  const cancel = document.createElement('button');\n",
              "  inputElement.parentElement.appendChild(cancel);\n",
              "  cancel.textContent = 'Cancel upload';\n",
              "  const cancelPromise = new Promise((resolve) => {\n",
              "    cancel.onclick = () => {\n",
              "      resolve(null);\n",
              "    };\n",
              "  });\n",
              "\n",
              "  // Wait for the user to pick the files.\n",
              "  const files = yield {\n",
              "    promise: Promise.race([pickedPromise, cancelPromise]),\n",
              "    response: {\n",
              "      action: 'starting',\n",
              "    }\n",
              "  };\n",
              "\n",
              "  cancel.remove();\n",
              "\n",
              "  // Disable the input element since further picks are not allowed.\n",
              "  inputElement.disabled = true;\n",
              "\n",
              "  if (!files) {\n",
              "    return {\n",
              "      response: {\n",
              "        action: 'complete',\n",
              "      }\n",
              "    };\n",
              "  }\n",
              "\n",
              "  for (const file of files) {\n",
              "    const li = document.createElement('li');\n",
              "    li.append(span(file.name, {fontWeight: 'bold'}));\n",
              "    li.append(span(\n",
              "        `(${file.type || 'n/a'}) - ${file.size} bytes, ` +\n",
              "        `last modified: ${\n",
              "            file.lastModifiedDate ? file.lastModifiedDate.toLocaleDateString() :\n",
              "                                    'n/a'} - `));\n",
              "    const percent = span('0% done');\n",
              "    li.appendChild(percent);\n",
              "\n",
              "    outputElement.appendChild(li);\n",
              "\n",
              "    const fileDataPromise = new Promise((resolve) => {\n",
              "      const reader = new FileReader();\n",
              "      reader.onload = (e) => {\n",
              "        resolve(e.target.result);\n",
              "      };\n",
              "      reader.readAsArrayBuffer(file);\n",
              "    });\n",
              "    // Wait for the data to be ready.\n",
              "    let fileData = yield {\n",
              "      promise: fileDataPromise,\n",
              "      response: {\n",
              "        action: 'continue',\n",
              "      }\n",
              "    };\n",
              "\n",
              "    // Use a chunked sending to avoid message size limits. See b/62115660.\n",
              "    let position = 0;\n",
              "    do {\n",
              "      const length = Math.min(fileData.byteLength - position, MAX_PAYLOAD_SIZE);\n",
              "      const chunk = new Uint8Array(fileData, position, length);\n",
              "      position += length;\n",
              "\n",
              "      const base64 = btoa(String.fromCharCode.apply(null, chunk));\n",
              "      yield {\n",
              "        response: {\n",
              "          action: 'append',\n",
              "          file: file.name,\n",
              "          data: base64,\n",
              "        },\n",
              "      };\n",
              "\n",
              "      let percentDone = fileData.byteLength === 0 ?\n",
              "          100 :\n",
              "          Math.round((position / fileData.byteLength) * 100);\n",
              "      percent.textContent = `${percentDone}% done`;\n",
              "\n",
              "    } while (position < fileData.byteLength);\n",
              "  }\n",
              "\n",
              "  // All done.\n",
              "  yield {\n",
              "    response: {\n",
              "      action: 'complete',\n",
              "    }\n",
              "  };\n",
              "}\n",
              "\n",
              "scope.google = scope.google || {};\n",
              "scope.google.colab = scope.google.colab || {};\n",
              "scope.google.colab._files = {\n",
              "  _uploadFiles,\n",
              "  _uploadFilesContinue,\n",
              "};\n",
              "})(self);\n",
              "</script> "
            ]
          },
          "metadata": {}
        },
        {
          "output_type": "stream",
          "name": "stdout",
          "text": [
            "Saving kc_house_data.csv to kc_house_data (1).csv\n"
          ]
        }
      ]
    },
    {
      "cell_type": "code",
      "source": [
        "df = pd.read_csv(\"kc_house_data.csv\")"
      ],
      "metadata": {
        "id": "OtYPKhrY2rRu"
      },
      "execution_count": null,
      "outputs": []
    },
    {
      "cell_type": "markdown",
      "source": [
        "Drop non-numeric or irrelevant features"
      ],
      "metadata": {
        "id": "0gQTgm8b37xX"
      }
    },
    {
      "cell_type": "code",
      "source": [
        "df = df.drop(columns=[\"id\", \"date\"])"
      ],
      "metadata": {
        "id": "JeMN2AVj39oY"
      },
      "execution_count": null,
      "outputs": []
    },
    {
      "cell_type": "markdown",
      "source": [
        "Select a subset of features and the target"
      ],
      "metadata": {
        "id": "p_BblNfC4BuO"
      }
    },
    {
      "cell_type": "code",
      "source": [
        "selected_features = [\"sqft_living\", \"bedrooms\", \"bathrooms\", \"floors\", \"view\"]\n",
        "target = \"price\""
      ],
      "metadata": {
        "id": "nXDRQOw84KL5"
      },
      "execution_count": null,
      "outputs": []
    },
    {
      "cell_type": "markdown",
      "source": [
        "Filter the dataframe"
      ],
      "metadata": {
        "id": "Mzqb4jtE4Spr"
      }
    },
    {
      "cell_type": "code",
      "source": [
        "df = df[selected_features + [target]]"
      ],
      "metadata": {
        "id": "CJoaxEDI4U6U"
      },
      "execution_count": null,
      "outputs": []
    },
    {
      "cell_type": "markdown",
      "source": [
        "Handle missing values"
      ],
      "metadata": {
        "id": "cRNKxje94do0"
      }
    },
    {
      "cell_type": "code",
      "source": [
        "df = df.dropna()"
      ],
      "metadata": {
        "id": "AwrIDSZX4iYT"
      },
      "execution_count": null,
      "outputs": []
    },
    {
      "cell_type": "markdown",
      "source": [
        "Convert to NumPy arrays"
      ],
      "metadata": {
        "id": "wWn_2LZr4mGb"
      }
    },
    {
      "cell_type": "code",
      "source": [
        "data = df.to_numpy()"
      ],
      "metadata": {
        "id": "yo5l3Vtb4qWM"
      },
      "execution_count": null,
      "outputs": []
    },
    {
      "cell_type": "markdown",
      "source": [
        "Normalize features (mean = 0, std = 1)"
      ],
      "metadata": {
        "id": "8Xf2FQYQ4uVa"
      }
    },
    {
      "cell_type": "code",
      "source": [
        "X = data[:, :-1]\n",
        "y = data[:, -1].reshape(-1, 1)\n",
        "\n",
        "X_mean = X.mean(axis=0)\n",
        "X_std = X.std(axis=0)\n",
        "X_norm = (X - X_mean) / X_std"
      ],
      "metadata": {
        "id": "j-k9GWME4yrj"
      },
      "execution_count": null,
      "outputs": []
    },
    {
      "cell_type": "markdown",
      "source": [
        "Add bias term"
      ],
      "metadata": {
        "id": "0FhqC-sG43b3"
      }
    },
    {
      "cell_type": "code",
      "source": [
        "X_norm = np.hstack([np.ones((X_norm.shape[0], 1)), X_norm])"
      ],
      "metadata": {
        "id": "dlQtgQsH5A2r"
      },
      "execution_count": null,
      "outputs": []
    },
    {
      "cell_type": "markdown",
      "source": [
        "Train-test split (80% train, 20% test)"
      ],
      "metadata": {
        "id": "ovW6Yhig5FHw"
      }
    },
    {
      "cell_type": "code",
      "source": [
        "np.random.seed(42)  # for reproducibility\n",
        "indices = np.random.permutation(X_norm.shape[0])\n",
        "train_size = int(0.8 * X_norm.shape[0])\n",
        "\n",
        "train_idx, test_idx = indices[:train_size], indices[train_size:]\n",
        "X_train, X_test = X_norm[train_idx], X_norm[test_idx]\n",
        "y_train, y_test = y[train_idx], y[test_idx]"
      ],
      "metadata": {
        "id": "RC2SJe2M5I_S"
      },
      "execution_count": null,
      "outputs": []
    },
    {
      "cell_type": "markdown",
      "source": [
        "Print shapes to verify"
      ],
      "metadata": {
        "id": "Qa_KYVCr5Sx_"
      }
    },
    {
      "cell_type": "code",
      "source": [
        "print(\"X_train:\", X_train.shape)\n",
        "print(\"y_train:\", y_train.shape)\n",
        "print(\"X_test:\", X_test.shape)\n",
        "print(\"y_test:\", y_test.shape)"
      ],
      "metadata": {
        "colab": {
          "base_uri": "https://localhost:8080/"
        },
        "id": "Lf1NgXPv5Wzp",
        "outputId": "a44a4c78-b934-4095-9827-ab45b9e40f9d"
      },
      "execution_count": null,
      "outputs": [
        {
          "output_type": "stream",
          "name": "stdout",
          "text": [
            "X_train: (17290, 6)\n",
            "y_train: (17290, 1)\n",
            "X_test: (4323, 6)\n",
            "y_test: (4323, 1)\n"
          ]
        }
      ]
    },
    {
      "cell_type": "markdown",
      "source": [
        "# Part 2: Basic Linear Regression with Gradient Descent"
      ],
      "metadata": {
        "id": "1oP8nRox5l4e"
      }
    },
    {
      "cell_type": "markdown",
      "source": [
        "Mean Squared Error Cost Function"
      ],
      "metadata": {
        "id": "dhiMw6sI5o7k"
      }
    },
    {
      "cell_type": "code",
      "source": [
        "def compute_cost(X, y, theta):\n",
        "    m = len(y)\n",
        "    predictions = X.dot(theta)\n",
        "    error = predictions - y\n",
        "    cost = (1 / (2 * m)) * np.sum(error ** 2)\n",
        "    return cost"
      ],
      "metadata": {
        "id": "Z2h3SNj55qdl"
      },
      "execution_count": null,
      "outputs": []
    },
    {
      "cell_type": "markdown",
      "source": [
        "Gradient Descent for Linear Regression"
      ],
      "metadata": {
        "id": "yJqsDp4h5vF-"
      }
    },
    {
      "cell_type": "code",
      "source": [
        "def gradient_descent(X, y, theta, learning_rate, num_iters):\n",
        "    m = len(y)\n",
        "    cost_history = []\n",
        "\n",
        "    for i in range(num_iters):\n",
        "        predictions = X.dot(theta)\n",
        "        error = predictions - y\n",
        "        gradients = (1 / m) * X.T.dot(error)\n",
        "        theta -= learning_rate * gradients\n",
        "        cost = compute_cost(X, y, theta)\n",
        "        cost_history.append(cost)\n",
        "\n",
        "        if i % 100 == 0:\n",
        "            print(f\"Iteration {i}: Cost = {cost:.4f}\")\n",
        "\n",
        "    return theta, cost_history"
      ],
      "metadata": {
        "id": "ZqKM9iRy5zVy"
      },
      "execution_count": null,
      "outputs": []
    },
    {
      "cell_type": "markdown",
      "source": [
        "Initialize theta (weights)"
      ],
      "metadata": {
        "id": "SpdZBcGP55u8"
      }
    },
    {
      "cell_type": "code",
      "source": [
        "theta = np.zeros((X_train.shape[1], 1))"
      ],
      "metadata": {
        "id": "IntfbFpU58wx"
      },
      "execution_count": null,
      "outputs": []
    },
    {
      "cell_type": "markdown",
      "source": [
        "Set hyperparameters"
      ],
      "metadata": {
        "id": "lL1Q0BOQ6A7g"
      }
    },
    {
      "cell_type": "code",
      "source": [
        "learning_rate = 0.01\n",
        "num_iters = 1000"
      ],
      "metadata": {
        "id": "Gq-ojm8n6NI0"
      },
      "execution_count": null,
      "outputs": []
    },
    {
      "cell_type": "markdown",
      "source": [
        "Train model"
      ],
      "metadata": {
        "id": "34UILkmu6Rlb"
      }
    },
    {
      "cell_type": "code",
      "source": [
        "theta_trained, cost_history = gradient_descent(X_train, y_train, theta, learning_rate, num_iters)"
      ],
      "metadata": {
        "colab": {
          "base_uri": "https://localhost:8080/"
        },
        "id": "yJPuPbQq6Uj4",
        "outputId": "54994fc2-b713-42f3-b831-c5879e30ac86"
      },
      "execution_count": null,
      "outputs": [
        {
          "output_type": "stream",
          "name": "stdout",
          "text": [
            "Iteration 0: Cost = 211464592938.2090\n",
            "Iteration 100: Cost = 54940168621.2253\n",
            "Iteration 200: Cost = 36204889475.6367\n",
            "Iteration 300: Cost = 33103420761.2719\n",
            "Iteration 400: Cost = 32336928826.1205\n",
            "Iteration 500: Cost = 32028081089.2125\n",
            "Iteration 600: Cost = 31862903339.2646\n",
            "Iteration 700: Cost = 31765039210.3056\n",
            "Iteration 800: Cost = 31704940655.6547\n",
            "Iteration 900: Cost = 31667435934.2810\n"
          ]
        }
      ]
    },
    {
      "cell_type": "markdown",
      "source": [
        "Plot cost over iterations"
      ],
      "metadata": {
        "id": "bXGAo8IS6gys"
      }
    },
    {
      "cell_type": "code",
      "source": [
        "plt.figure(figsize=(8, 5))\n",
        "plt.plot(range(num_iters), cost_history, color='blue')\n",
        "plt.xlabel('Iterations')\n",
        "plt.ylabel('Cost (MSE)')\n",
        "plt.title('Gradient Descent Convergence')\n",
        "plt.grid(True)\n",
        "plt.show()"
      ],
      "metadata": {
        "colab": {
          "base_uri": "https://localhost:8080/",
          "height": 487
        },
        "id": "shk4uXZl6ina",
        "outputId": "fe98fac5-3ab3-444c-996a-2532e1842099"
      },
      "execution_count": null,
      "outputs": [
        {
          "output_type": "display_data",
          "data": {
            "text/plain": [
              "<Figure size 800x500 with 1 Axes>"
            ],
            "image/png": "[encoded data removed]"
          },
          "metadata": {}
        }
      ]
    },
    {
      "cell_type": "markdown",
      "source": [
        "Evaluate on test set"
      ],
      "metadata": {
        "id": "okC2Hx446qrS"
      }
    },
    {
      "cell_type": "code",
      "source": [
        "def evaluate_model(X, y, theta):\n",
        "    predictions = X.dot(theta)\n",
        "    mse = np.mean((predictions - y) ** 2)\n",
        "    return mse\n",
        "\n",
        "test_mse = evaluate_model(X_test, y_test, theta_trained)\n",
        "print(f\"Test MSE: {test_mse:.2f}\")"
      ],
      "metadata": {
        "colab": {
          "base_uri": "https://localhost:8080/"
        },
        "id": "zk7R-3Sz6sHj",
        "outputId": "9d40a1f6-1ce7-4a02-aa73-7ce5069e03d1"
      },
      "execution_count": null,
      "outputs": [
        {
          "output_type": "stream",
          "name": "stdout",
          "text": [
            "Test MSE: 53649233428.02\n"
          ]
        }
      ]
    },
    {
      "cell_type": "markdown",
      "source": [
        "# Part 3: Ridge Regression (L2 Regularization)"
      ],
      "metadata": {
        "id": "huiNhDCi67mY"
      }
    },
    {
      "cell_type": "markdown",
      "source": [
        "Ridge Cost Function (L2 Regularization)"
      ],
      "metadata": {
        "id": "haZfbDPZ7Es7"
      }
    },
    {
      "cell_type": "code",
      "source": [
        "def compute_cost_ridge(X, y, theta, lambda_):\n",
        "    m = len(y)\n",
        "    predictions = X.dot(theta)\n",
        "    error = predictions - y\n",
        "    regularization = (lambda_ / (2 * m)) * np.sum(theta[1:] ** 2)\n",
        "    cost = (1 / (2 * m)) * np.sum(error ** 2) + regularization\n",
        "    return cost\n"
      ],
      "metadata": {
        "id": "B3EyGpCN7A37"
      },
      "execution_count": null,
      "outputs": []
    },
    {
      "cell_type": "markdown",
      "source": [
        "Gradient Descent with Ridge Regularization"
      ],
      "metadata": {
        "id": "md0p_fH67x8f"
      }
    },
    {
      "cell_type": "code",
      "source": [
        "def gradient_descent_ridge(X, y, theta, learning_rate, num_iters, lambda_):\n",
        "    m = len(y)\n",
        "    cost_history = []\n",
        "\n",
        "    for i in range(num_iters):\n",
        "        predictions = X.dot(theta)\n",
        "        error = predictions - y\n",
        "\n",
        "        # Regularized gradient\n",
        "        gradients = (1 / m) * (X.T.dot(error))\n",
        "        gradients[1:] += (lambda_ / m) * theta[1:]\n",
        "\n",
        "        theta -= learning_rate * gradients\n",
        "        cost = compute_cost_ridge(X, y, theta, lambda_)\n",
        "        cost_history.append(cost)\n",
        "\n",
        "        if i % 100 == 0:\n",
        "            print(f\"Ridge Iteration {i}: Cost = {cost:.4f}\")\n",
        "\n",
        "    return theta, cost_history"
      ],
      "metadata": {
        "id": "X7_1JNOL78-h"
      },
      "execution_count": null,
      "outputs": []
    },
    {
      "cell_type": "markdown",
      "source": [
        "Initialize theta"
      ],
      "metadata": {
        "id": "eux82PKh89rV"
      }
    },
    {
      "cell_type": "code",
      "source": [
        "theta_ridge = np.zeros((X_train.shape[1], 1))"
      ],
      "metadata": {
        "id": "nWinM2jk8TPS"
      },
      "execution_count": null,
      "outputs": []
    },
    {
      "cell_type": "markdown",
      "source": [
        "Hyperparameters"
      ],
      "metadata": {
        "id": "0IMDL-Qi9GRS"
      }
    },
    {
      "cell_type": "code",
      "source": [
        "learning_rate = 0.01\n",
        "num_iters = 1000\n",
        "lambda_ridge = 10"
      ],
      "metadata": {
        "id": "dWQA5ayh9KUA"
      },
      "execution_count": null,
      "outputs": []
    },
    {
      "cell_type": "markdown",
      "source": [
        "Train Ridge model"
      ],
      "metadata": {
        "id": "ELLR8D-H9SCD"
      }
    },
    {
      "cell_type": "code",
      "source": [
        "theta_ridge_trained, cost_ridge_history = gradient_descent_ridge(\n",
        "    X_train, y_train, theta_ridge, learning_rate, num_iters, lambda_ridge\n",
        ")"
      ],
      "metadata": {
        "colab": {
          "base_uri": "https://localhost:8080/"
        },
        "id": "rPMeoHg89WdC",
        "outputId": "767e0b01-2ccd-4ac7-e922-126557584e56"
      },
      "execution_count": null,
      "outputs": [
        {
          "output_type": "stream",
          "name": "stdout",
          "text": [
            "Ridge Iteration 0: Cost = 211464597343.8394\n",
            "Ridge Iteration 100: Cost = 54949223153.2927\n",
            "Ridge Iteration 200: Cost = 36217490869.9281\n",
            "Ridge Iteration 300: Cost = 33118552244.5726\n",
            "Ridge Iteration 400: Cost = 32353957982.7828\n",
            "Ridge Iteration 500: Cost = 32046510818.5020\n",
            "Ridge Iteration 600: Cost = 31882350245.5590\n",
            "Ridge Iteration 700: Cost = 31785216543.8064\n",
            "Ridge Iteration 800: Cost = 31725638291.1613\n",
            "Ridge Iteration 900: Cost = 31688501809.8338\n"
          ]
        }
      ]
    },
    {
      "cell_type": "markdown",
      "source": [
        "Plot Ridge cost convergence"
      ],
      "metadata": {
        "id": "5j-I1KkC9hCV"
      }
    },
    {
      "cell_type": "code",
      "source": [
        "plt.figure(figsize=(8, 5))\n",
        "plt.plot(range(num_iters), cost_ridge_history, color='red')\n",
        "plt.xlabel('Iterations')\n",
        "plt.ylabel('Cost (Ridge MSE + L2)')\n",
        "plt.title('Ridge Regression Convergence')\n",
        "plt.grid(True)\n",
        "plt.show()"
      ],
      "metadata": {
        "colab": {
          "base_uri": "https://localhost:8080/",
          "height": 487
        },
        "id": "6xNzLdhX9nGK",
        "outputId": "ed5e7e8b-4493-4871-c608-90c51538f165"
      },
      "execution_count": null,
      "outputs": [
        {
          "output_type": "display_data",
          "data": {
            "text/plain": [
              "<Figure size 800x500 with 1 Axes>"
            ],
            "image/png": "[encoded data removed]"
          },
          "metadata": {}
        }
      ]
    },
    {
      "cell_type": "markdown",
      "source": [
        "Evaluate Ridge model on test set"
      ],
      "metadata": {
        "id": "KFz5GEAf9vkO"
      }
    },
    {
      "cell_type": "code",
      "source": [
        "ridge_test_mse = evaluate_model(X_test, y_test, theta_ridge_trained)\n",
        "print(f\"Ridge Test MSE (lambda={lambda_ridge}): {ridge_test_mse:.2f}\")"
      ],
      "metadata": {
        "colab": {
          "base_uri": "https://localhost:8080/"
        },
        "id": "nm2QFKw-9yYx",
        "outputId": "8e191050-05ea-41c7-aa72-a60cb18dcadd"
      },
      "execution_count": null,
      "outputs": [
        {
          "output_type": "stream",
          "name": "stdout",
          "text": [
            "Ridge Test MSE (lambda=10): 53645215098.73\n"
          ]
        }
      ]
    },
    {
      "cell_type": "markdown",
      "source": [
        "# Part 4: LASSO Regression (L1 Regularization)"
      ],
      "metadata": {
        "id": "qvoBTDec98FA"
      }
    },
    {
      "cell_type": "markdown",
      "source": [
        "LASSO Cost Function (L1 Regularization)"
      ],
      "metadata": {
        "id": "EwJ1ap0cAouK"
      }
    },
    {
      "cell_type": "code",
      "source": [
        "def compute_cost_lasso(X, y, theta, lambda_):\n",
        "    m = len(y)\n",
        "    predictions = X.dot(theta)\n",
        "    error = predictions - y\n",
        "    regularization = (lambda_ / m) * np.sum(np.abs(theta[1:]))\n",
        "    cost = (1 / (2 * m)) * np.sum(error ** 2) + regularization\n",
        "    return cost"
      ],
      "metadata": {
        "id": "_aYDQbdA9_sQ"
      },
      "execution_count": null,
      "outputs": []
    },
    {
      "cell_type": "markdown",
      "source": [
        "Gradient Descent with LASSO (L1 Regularization)"
      ],
      "metadata": {
        "id": "Km87rnR9A3IH"
      }
    },
    {
      "cell_type": "code",
      "source": [
        "def gradient_descent_lasso(X, y, theta, learning_rate, num_iters, lambda_):\n",
        "    m = len(y)\n",
        "    cost_history = []\n",
        "\n",
        "    for i in range(num_iters):\n",
        "        predictions = X.dot(theta)\n",
        "        error = predictions - y\n",
        "\n",
        "        gradients = (1 / m) * X.T.dot(error)\n",
        "\n",
        "       # Add L1 penalty (subgradient): do not regularize theta[0]\n",
        "\n",
        "        gradients[1:] += (lambda_ / m) * np.sign(theta[1:])\n",
        "\n",
        "        theta -= learning_rate * gradients\n",
        "        cost = compute_cost_lasso(X, y, theta, lambda_)\n",
        "        cost_history.append(cost)\n",
        "\n",
        "        if i % 100 == 0:\n",
        "            print(f\"LASSO Iteration {i}: Cost = {cost:.4f}\")\n",
        "\n",
        "    return theta, cost_history"
      ],
      "metadata": {
        "id": "IDzlsq5FA-is"
      },
      "execution_count": null,
      "outputs": []
    },
    {
      "cell_type": "markdown",
      "source": [
        "Initialize theta"
      ],
      "metadata": {
        "id": "VgXg8OMqBMbl"
      }
    },
    {
      "cell_type": "code",
      "source": [
        "theta_lasso = np.zeros((X_train.shape[1], 1))"
      ],
      "metadata": {
        "id": "jhwcZZvlBeAL"
      },
      "execution_count": null,
      "outputs": []
    },
    {
      "cell_type": "markdown",
      "source": [
        "Hyperparameters"
      ],
      "metadata": {
        "id": "kJZ8MR5-Bib7"
      }
    },
    {
      "cell_type": "code",
      "source": [
        "learning_rate = 0.01\n",
        "num_iters = 1000\n",
        "lambda_lasso = 0.1"
      ],
      "metadata": {
        "id": "fLFYy5OuCETr"
      },
      "execution_count": null,
      "outputs": []
    },
    {
      "cell_type": "markdown",
      "source": [
        "Train LASSO model"
      ],
      "metadata": {
        "id": "PV8elhrgCKXk"
      }
    },
    {
      "cell_type": "code",
      "source": [
        "theta_lasso_trained, cost_lasso_history = gradient_descent_lasso(\n",
        "    X_train, y_train, theta_lasso, learning_rate, num_iters, lambda_lasso\n",
        ")"
      ],
      "metadata": {
        "colab": {
          "base_uri": "https://localhost:8080/"
        },
        "id": "sRYnFz-DCQa3",
        "outputId": "b2644304-5438-4bed-deba-2f268fe763ed"
      },
      "execution_count": null,
      "outputs": [
        {
          "output_type": "stream",
          "name": "stdout",
          "text": [
            "LASSO Iteration 0: Cost = 211464592938.2563\n",
            "LASSO Iteration 100: Cost = 54940168623.0673\n",
            "LASSO Iteration 200: Cost = 36204889477.4432\n",
            "LASSO Iteration 300: Cost = 33103420763.3114\n",
            "LASSO Iteration 400: Cost = 32336928828.2704\n",
            "LASSO Iteration 500: Cost = 32028081091.4131\n",
            "LASSO Iteration 600: Cost = 31862903341.4899\n",
            "LASSO Iteration 700: Cost = 31765039212.5435\n",
            "LASSO Iteration 800: Cost = 31704940657.8993\n",
            "LASSO Iteration 900: Cost = 31667435936.5293\n"
          ]
        }
      ]
    },
    {
      "cell_type": "markdown",
      "source": [
        "Plot LASSO cost convergence"
      ],
      "metadata": {
        "id": "X0TUPTpnCXve"
      }
    },
    {
      "cell_type": "code",
      "source": [
        "plt.figure(figsize=(8, 5))\n",
        "plt.plot(range(num_iters), cost_lasso_history, color='green')\n",
        "plt.xlabel('Iterations')\n",
        "plt.ylabel('Cost (LASSO MSE + L1)')\n",
        "plt.title('LASSO Regression Convergence')\n",
        "plt.grid(True)\n",
        "plt.show()"
      ],
      "metadata": {
        "colab": {
          "base_uri": "https://localhost:8080/",
          "height": 487
        },
        "id": "6QrFYDVmCaKJ",
        "outputId": "337d1b5b-fde3-4cea-aea4-259d2671e11d"
      },
      "execution_count": null,
      "outputs": [
        {
          "output_type": "display_data",
          "data": {
            "text/plain": [
              "<Figure size 800x500 with 1 Axes>"
            ],
            "image/png": "[encoded data removed]"
          },
          "metadata": {}
        }
      ]
    },
    {
      "cell_type": "markdown",
      "source": [
        "Evaluate LASSO model on test set"
      ],
      "metadata": {
        "id": "2noWob94Chf_"
      }
    },
    {
      "cell_type": "code",
      "source": [
        "lasso_test_mse = evaluate_model(X_test, y_test, theta_lasso_trained)\n",
        "print(f\"LASSO Test MSE (lambda={lambda_lasso}): {lasso_test_mse:.2f}\")"
      ],
      "metadata": {
        "colab": {
          "base_uri": "https://localhost:8080/"
        },
        "id": "72hC1Q9FCmVX",
        "outputId": "4c469b6c-0c1c-4bc0-b406-e093bf881e4e"
      },
      "execution_count": null,
      "outputs": [
        {
          "output_type": "stream",
          "name": "stdout",
          "text": [
            "LASSO Test MSE (lambda=0.1): 53649233427.90\n"
          ]
        }
      ]
    },
    {
      "cell_type": "markdown",
      "source": [
        "# Part 5: Analysis and Comparison"
      ],
      "metadata": {
        "id": "6mhMVXkqYC6N"
      }
    },
    {
      "cell_type": "markdown",
      "source": [
        "Collect all weights (excluding bias term at index 0)"
      ],
      "metadata": {
        "id": "hEj-QwxXYFG2"
      }
    },
    {
      "cell_type": "code",
      "source": [
        "weights = {\n",
        "    \"Standard\": theta_trained[1:].flatten(),\n",
        "    \"Ridge\": theta_ridge_trained[1:].flatten(),\n",
        "    \"LASSO\": theta_lasso_trained[1:].flatten()\n",
        "}\n",
        "\n",
        "feature_names = selected_features\n",
        "\n",
        "x = np.arange(len(feature_names))  # for bar plotting"
      ],
      "metadata": {
        "id": "Jt-Eai0rYK1Y"
      },
      "execution_count": null,
      "outputs": []
    },
    {
      "cell_type": "markdown",
      "source": [
        "Plot bar chart of coefficients"
      ],
      "metadata": {
        "id": "W9hQrgwRYO5_"
      }
    },
    {
      "cell_type": "code",
      "source": [
        "plt.figure(figsize=(10, 6))\n",
        "bar_width = 0.25\n",
        "\n",
        "plt.bar(x - bar_width, weights[\"Standard\"], width=bar_width, label=\"Standard\")\n",
        "plt.bar(x, weights[\"Ridge\"], width=bar_width, label=\"Ridge\")\n",
        "plt.bar(x + bar_width, weights[\"LASSO\"], width=bar_width, label=\"LASSO\")\n",
        "\n",
        "plt.xticks(x, feature_names)\n",
        "plt.ylabel(\"Coefficient Value\")\n",
        "plt.title(\"Feature Coefficients Comparison\")\n",
        "plt.legend()\n",
        "plt.grid(True, axis='y', linestyle='--')\n",
        "plt.tight_layout()\n",
        "plt.show()"
      ],
      "metadata": {
        "colab": {
          "base_uri": "https://localhost:8080/",
          "height": 607
        },
        "id": "1eO2eeuwYTDt",
        "outputId": "4ef4a70b-e793-49e7-9ffd-b44fc4979e3a"
      },
      "execution_count": null,
      "outputs": [
        {
          "output_type": "display_data",
          "data": {
            "text/plain": [
              "<Figure size 1000x600 with 1 Axes>"
            ],
            "image/png": "[encoded data removed]"
          },
          "metadata": {}
        }
      ]
    },
    {
      "cell_type": "markdown",
      "source": [
        "Compare Test MSEs"
      ],
      "metadata": {
        "id": "u7WsdrmQYbrE"
      }
    },
    {
      "cell_type": "code",
      "source": [
        "print(\"Model Performance on Test Set:\")\n",
        "print(f\"Standard Linear Regression MSE: {test_mse:.2f}\")\n",
        "print(f\"Ridge Regression MSE (λ={lambda_ridge}): {ridge_test_mse:.2f}\")\n",
        "print(f\"LASSO Regression MSE (λ={lambda_lasso}): {lasso_test_mse:.2f}\")"
      ],
      "metadata": {
        "colab": {
          "base_uri": "https://localhost:8080/"
        },
        "id": "gYa-nGV0Ye6D",
        "outputId": "86a4bccd-995f-457b-d175-7741d3cad128"
      },
      "execution_count": null,
      "outputs": [
        {
          "output_type": "stream",
          "name": "stdout",
          "text": [
            "Model Performance on Test Set:\n",
            "Standard Linear Regression MSE: 53649233428.02\n",
            "Ridge Regression MSE (λ=10): 53645215098.73\n",
            "LASSO Regression MSE (λ=0.1): 53649233427.90\n"
          ]
        }
      ]
    },
    {
      "cell_type": "markdown",
      "source": [
        "MSE Bar Chart"
      ],
      "metadata": {
        "id": "aGBJsOKLYoLB"
      }
    },
    {
      "cell_type": "code",
      "source": [
        "models = ['Standard', 'Ridge', 'LASSO']\n",
        "mses = [test_mse, ridge_test_mse, lasso_test_mse]\n",
        "\n",
        "plt.figure(figsize=(6, 5))\n",
        "plt.bar(models, mses, color=['blue', 'red', 'green'])\n",
        "plt.ylabel(\"Mean Squared Error\")\n",
        "plt.title(\"Test Set MSE Comparison\")\n",
        "plt.grid(axis='y', linestyle='--')\n",
        "plt.tight_layout()\n",
        "plt.show()"
      ],
      "metadata": {
        "id": "eZDbX40sYpyR",
        "outputId": "4ad1500d-3b8a-4e82-fada-f8882bd758f5",
        "colab": {
          "base_uri": "https://localhost:8080/",
          "height": 507
        }
      },
      "execution_count": null,
      "outputs": [
        {
          "output_type": "display_data",
          "data": {
            "text/plain": [
              "<Figure size 600x500 with 1 Axes>"
            ],
            "image/png": "[encoded data removed]"
          },
          "metadata": {}
        }
      ]
    },
    {
      "cell_type": "markdown",
      "source": [
        "## Summary\n",
        "**Linear Regression**\n",
        "\n",
        "Regularization Type - None\n",
        "\n",
        "Purpose - Baseline model\n",
        "\n",
        "Test MSE - 53649233428.02\n",
        "\n",
        "**Ridge Regression**\n",
        "\n",
        "Regularization Type - L2 (Lambda = 10)\n",
        "\n",
        "Purpose - Shrinks all weights (no zeros)\n",
        "\n",
        "Test MSE - 53645215098.73\n",
        "\n",
        "**LASSO Regression**\n",
        "\n",
        "Regularization Type - L1 (Lambda = 0.1)\n",
        "\n",
        "Purpose - Shrinks and eliminates weights\n",
        "\n",
        "Test MSE - 53649233427.90\n"
      ],
      "metadata": {
        "id": "gCBtXeHCb1-Y"
      }
    },
    {
      "cell_type": "markdown",
      "source": [
        "## Trade off\n",
        "Ridge is better when all features are informative.\n",
        "\n",
        "LASSO is preferred when you suspect some features are irrelevant.\n",
        "\n",
        "The regularization parameter (Lambda) needs tuning to avoid underfitting or over-penalization."
      ],
      "metadata": {
        "id": "NlfnBRdhabtn"
      }
    }
  ]
}